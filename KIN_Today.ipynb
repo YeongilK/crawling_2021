{
 "metadata": {
  "language_info": {
   "codemirror_mode": {
    "name": "ipython",
    "version": 3
   },
   "file_extension": ".py",
   "mimetype": "text/x-python",
   "name": "python",
   "nbconvert_exporter": "python",
   "pygments_lexer": "ipython3",
   "version": "3.8.6-final"
  },
  "orig_nbformat": 2,
  "kernelspec": {
   "name": "python386jvsc74a57bd025a6efafc31951e90de1c16a70e6d051f17722d346d4891fc1d97bd3c7f72235",
   "display_name": "Python 3.8.6 64-bit"
  }
 },
 "nbformat": 4,
 "nbformat_minor": 2,
 "cells": [
  {
   "source": [
    "# 네이버 지식인 크롤링\n",
    "- keyword 임의설정\n",
    "- 당일 데이터만 수집"
   ],
   "cell_type": "markdown",
   "metadata": {}
  },
  {
   "cell_type": "code",
   "execution_count": 16,
   "metadata": {},
   "outputs": [],
   "source": [
    "import time\n",
    "import pandas as pd \n",
    "from bs4 import BeautifulSoup\n",
    "from selenium import webdriver\n",
    "from selenium.webdriver.remote.webelement import WebElement\n",
    "from selenium.webdriver.common.keys import Keys\n",
    "from selenium.webdriver import ActionChains\n",
    "from urllib.parse import quote\n",
    "from tqdm import tqdm\n",
    "from datetime import datetime, timedelta"
   ]
  },
  {
   "source": [
    "## 오늘 날짜만 검색"
   ],
   "cell_type": "markdown",
   "metadata": {}
  },
  {
   "cell_type": "code",
   "execution_count": 17,
   "metadata": {},
   "outputs": [
    {
     "output_type": "stream",
     "name": "stdout",
     "text": [
      "2021.04.20.\n"
     ]
    }
   ],
   "source": [
    "KEYWORD = '대선'\n",
    "TODAY = datetime.today().strftime(\"%Y.%m.%d.\")\n",
    "print(TODAY)"
   ]
  },
  {
   "cell_type": "code",
   "execution_count": 19,
   "metadata": {},
   "outputs": [
    {
     "output_type": "stream",
     "name": "stdout",
     "text": [
      "전체 페이지 수:  1\n"
     ]
    }
   ],
   "source": [
    "driver = webdriver.Chrome('./chromedriver')\n",
    "driver.maximize_window()\n",
    "base_url = \"https://www.naver.com/\"\n",
    "driver.get(base_url)\n",
    "time.sleep(1)\n",
    "\n",
    "# 지식iN 으로 이동\n",
    "nav = driver.find_element_by_id('NM_FAVORITE')\n",
    "lis = nav.find_element_by_tag_name('ul').find_elements_by_tag_name('li')\n",
    "lis[3].click()\n",
    "\n",
    "# 키워드 검색 후 최신순 정렬\n",
    "search_area = driver.find_element_by_class_name('search_area')\n",
    "search_area.find_element_by_tag_name('input').send_keys(KEYWORD)    # 키워드 입력\n",
    "driver.find_element_by_class_name('search_btn').click()     # 검색\n",
    "driver.find_element_by_class_name('option_sort').find_elements_by_tag_name('li')[1].click()     # '최신순' 클릭\n",
    "time.sleep(1)\n",
    "\n",
    "# 기간 검색: TODAY\n",
    "driver.find_element_by_id('au_date_select').click()\n",
    "time.sleep(1)\n",
    "from_date = driver.find_element_by_id('sel_from_date')\n",
    "to_date = driver.find_element_by_id('sel_to_date')\n",
    "# 시작날짜, 완료날짜 입력\n",
    "actions = ActionChains(driver).double_click(from_date).send_keys(TODAY).double_click(to_date).send_keys(TODAY)\n",
    "actions.perform()\n",
    "driver.find_element_by_xpath('/html/body/div[3]/div/ul/li[4]/input[3]').click()\n",
    "\n",
    "# 전체 페이지수 수집\n",
    "while True:\n",
    "    pagination = driver.find_element_by_class_name('s_paging')\n",
    "    pages = pagination.find_elements_by_tag_name('a')\n",
    "    tmp = []\n",
    "    for page in pages:\n",
    "        tmp.append(page.text)\n",
    "    if '다음페이지' in tmp:\n",
    "        pages[-1].click()\n",
    "        time.sleep(2)\n",
    "    else:\n",
    "        NUM_OF_PAGE = int(pagination.text.split()[-1])\n",
    "        break\n",
    "print(\"전체 페이지 수: \", NUM_OF_PAGE)\n",
    "driver.close()"
   ]
  },
  {
   "cell_type": "code",
   "execution_count": 20,
   "metadata": {},
   "outputs": [
    {
     "output_type": "stream",
     "name": "stdout",
     "text": [
      "총 4개의 질문\n",
      "1번째 : 3\n",
      "2번째 : 1\n",
      "3번째 : 1\n",
      "4번째 : 1\n",
      "----------------------------------\n",
      "Total 답변 개수: 6\n"
     ]
    }
   ],
   "source": [
    "driver = webdriver.Chrome('./chromedriver')\n",
    "driver.maximize_window()\n",
    "ans_url_list = []; total_ans = 0\n",
    "\n",
    "# 질문들의 url 수집\n",
    "for page in range(NUM_OF_PAGE):\n",
    "    kin_url = f'https://kin.naver.com/search/list.nhn?sort=date&query={quote(KEYWORD)}'\n",
    "    period_url = f'&period={TODAY}%7C{TODAY}&section=kin'\n",
    "    page_url = f'&page={page+1}'\n",
    "    url = kin_url + period_url + page_url\n",
    "    driver.get(url)\n",
    "    time.sleep(1)\n",
    "    #print(f\"{page+1} 페이지\")\n",
    "\n",
    "    ul = driver.find_element_by_xpath('//*[@id=\"s_content\"]/div[3]/ul')\n",
    "    lis = ul.find_elements_by_tag_name('li')\n",
    "    for li in lis:\n",
    "        a_tag = li.find_element_by_tag_name('a')\n",
    "        ans_url_list.append(a_tag.get_attribute('href'))\n",
    "\n",
    "print(f'총 {len(ans_url_list)}개의 질문')\n",
    "\n",
    "# 각 질문의 답변 개수\n",
    "for i, ans_url in enumerate(ans_url_list):\n",
    "    driver.get(ans_url)\n",
    "    time.sleep(0.5)\n",
    "    ans_cnt = int(driver.find_element_by_class_name('_answerCount.num').text)\n",
    "    total_ans += ans_cnt\n",
    "    print(f'{i+1}번째 : {ans_cnt}')\n",
    "print(\"----------------------------------\")\n",
    "print(f'Total 답변 개수: {total_ans}')\n",
    "\n",
    "driver.close()"
   ]
  },
  {
   "cell_type": "code",
   "execution_count": 21,
   "metadata": {},
   "outputs": [
    {
     "output_type": "stream",
     "name": "stderr",
     "text": [
      "100%|██████████| 4/4 [00:12<00:00,  3.10s/it]\n"
     ]
    }
   ],
   "source": [
    "driver = webdriver.Chrome('./chromedriver')\n",
    "driver.maximize_window()\n",
    "answer_text_list = []\n",
    "\n",
    "for ans_url in tqdm(ans_url_list):\n",
    "    driver.get(ans_url)\n",
    "    time.sleep(1)\n",
    "    more = driver.find_element_by_xpath('//*[@id=\"nextPageButton\"]')\n",
    "    disp = more.get_attribute('style')      # 더보기 할 답변이 남아있지 않은 경우 \"style:None\" 이 존재한다\n",
    "    try:\n",
    "        # 더보기 할 답변이 남지 않을 때까지 while문을 돌린다\n",
    "        while disp:     \n",
    "            driver.find_element_by_id('nextPageButton').click()\n",
    "            time.sleep(1)\n",
    "    except:\n",
    "        time.sleep(1)\n",
    "    answers = driver.find_elements_by_class_name('answer-content__item._contentWrap._answer')\n",
    "    for ans in answers:\n",
    "        ps = ans.find_elements_by_tag_name('p')\n",
    "        for p in ps:\n",
    "            answer_text_list.append(p.text)\n",
    "driver.close()"
   ]
  },
  {
   "cell_type": "code",
   "execution_count": 22,
   "metadata": {},
   "outputs": [
    {
     "output_type": "execute_result",
     "data": {
      "text/plain": [
       "145"
      ]
     },
     "metadata": {},
     "execution_count": 22
    }
   ],
   "source": [
    "len(answer_text_list)"
   ]
  },
  {
   "cell_type": "code",
   "execution_count": 23,
   "metadata": {},
   "outputs": [
    {
     "output_type": "execute_result",
     "data": {
      "text/plain": [
       "                                       answer\n",
       "0                                      비공개 답변\n",
       "1                                상승장에서 순환매예요.\n",
       "2  보통주들이 오르고나면  우선주들도 나중에 테마를 형성해서  한번씩 급등해요.\n",
       "3                                            \n",
       "4                                            "
      ],
      "text/html": "<div>\n<style scoped>\n    .dataframe tbody tr th:only-of-type {\n        vertical-align: middle;\n    }\n\n    .dataframe tbody tr th {\n        vertical-align: top;\n    }\n\n    .dataframe thead th {\n        text-align: right;\n    }\n</style>\n<table border=\"1\" class=\"dataframe\">\n  <thead>\n    <tr style=\"text-align: right;\">\n      <th></th>\n      <th>answer</th>\n    </tr>\n  </thead>\n  <tbody>\n    <tr>\n      <th>0</th>\n      <td>비공개 답변</td>\n    </tr>\n    <tr>\n      <th>1</th>\n      <td>상승장에서 순환매예요.</td>\n    </tr>\n    <tr>\n      <th>2</th>\n      <td>보통주들이 오르고나면  우선주들도 나중에 테마를 형성해서  한번씩 급등해요.</td>\n    </tr>\n    <tr>\n      <th>3</th>\n      <td></td>\n    </tr>\n    <tr>\n      <th>4</th>\n      <td></td>\n    </tr>\n  </tbody>\n</table>\n</div>"
     },
     "metadata": {},
     "execution_count": 23
    }
   ],
   "source": [
    "df = pd.DataFrame({\n",
    "    'answer': answer_text_list\n",
    "})\n",
    "df.head()"
   ]
  },
  {
   "cell_type": "code",
   "execution_count": 24,
   "metadata": {},
   "outputs": [],
   "source": [
    "today = datetime.today().strftime(\"%y%m%d\")\n",
    "df.to_csv(f'./data/{KEYWORD}_{today}_org.txt', sep='\\t', index=False)"
   ]
  },
  {
   "source": [
    "### 데이터 전처리"
   ],
   "cell_type": "markdown",
   "metadata": {}
  },
  {
   "cell_type": "code",
   "execution_count": 32,
   "metadata": {},
   "outputs": [
    {
     "output_type": "execute_result",
     "data": {
      "text/plain": [
       "                                       answer\n",
       "0                                      비공개 답변\n",
       "1                                상승장에서 순환매예요.\n",
       "2  보통주들이 오르고나면  우선주들도 나중에 테마를 형성해서  한번씩 급등해요.\n",
       "3                                         NaN\n",
       "4                                         NaN"
      ],
      "text/html": "<div>\n<style scoped>\n    .dataframe tbody tr th:only-of-type {\n        vertical-align: middle;\n    }\n\n    .dataframe tbody tr th {\n        vertical-align: top;\n    }\n\n    .dataframe thead th {\n        text-align: right;\n    }\n</style>\n<table border=\"1\" class=\"dataframe\">\n  <thead>\n    <tr style=\"text-align: right;\">\n      <th></th>\n      <th>answer</th>\n    </tr>\n  </thead>\n  <tbody>\n    <tr>\n      <th>0</th>\n      <td>비공개 답변</td>\n    </tr>\n    <tr>\n      <th>1</th>\n      <td>상승장에서 순환매예요.</td>\n    </tr>\n    <tr>\n      <th>2</th>\n      <td>보통주들이 오르고나면  우선주들도 나중에 테마를 형성해서  한번씩 급등해요.</td>\n    </tr>\n    <tr>\n      <th>3</th>\n      <td>NaN</td>\n    </tr>\n    <tr>\n      <th>4</th>\n      <td>NaN</td>\n    </tr>\n  </tbody>\n</table>\n</div>"
     },
     "metadata": {},
     "execution_count": 32
    }
   ],
   "source": [
    "df_test = pd.read_table(f'./data/{KEYWORD}_{today}_org.txt')\n",
    "df_test.head()"
   ]
  },
  {
   "cell_type": "code",
   "execution_count": 33,
   "metadata": {},
   "outputs": [
    {
     "output_type": "execute_result",
     "data": {
      "text/plain": [
       "(145, 1)"
      ]
     },
     "metadata": {},
     "execution_count": 33
    }
   ],
   "source": [
    "df_test.shape"
   ]
  },
  {
   "cell_type": "code",
   "execution_count": 34,
   "metadata": {},
   "outputs": [
    {
     "output_type": "stream",
     "name": "stderr",
     "text": [
      "<ipython-input-34-221eee7c9aaa>:2: FutureWarning: The default value of regex will change from True to False in a future version.\n  df_test['answer'] = df_test['answer'].str.replace(\"[^a-zA-Zㄱ-ㅎㅏ-ㅣ가-힣 ]\",\"\")\n"
     ]
    },
    {
     "output_type": "execute_result",
     "data": {
      "text/plain": [
       "                                      answer\n",
       "0                                     비공개 답변\n",
       "1                                상승장에서 순환매예요\n",
       "2  보통주들이 오르고나면  우선주들도 나중에 테마를 형성해서  한번씩 급등해요\n",
       "3                                        NaN\n",
       "4                                        NaN"
      ],
      "text/html": "<div>\n<style scoped>\n    .dataframe tbody tr th:only-of-type {\n        vertical-align: middle;\n    }\n\n    .dataframe tbody tr th {\n        vertical-align: top;\n    }\n\n    .dataframe thead th {\n        text-align: right;\n    }\n</style>\n<table border=\"1\" class=\"dataframe\">\n  <thead>\n    <tr style=\"text-align: right;\">\n      <th></th>\n      <th>answer</th>\n    </tr>\n  </thead>\n  <tbody>\n    <tr>\n      <th>0</th>\n      <td>비공개 답변</td>\n    </tr>\n    <tr>\n      <th>1</th>\n      <td>상승장에서 순환매예요</td>\n    </tr>\n    <tr>\n      <th>2</th>\n      <td>보통주들이 오르고나면  우선주들도 나중에 테마를 형성해서  한번씩 급등해요</td>\n    </tr>\n    <tr>\n      <th>3</th>\n      <td>NaN</td>\n    </tr>\n    <tr>\n      <th>4</th>\n      <td>NaN</td>\n    </tr>\n  </tbody>\n</table>\n</div>"
     },
     "metadata": {},
     "execution_count": 34
    }
   ],
   "source": [
    "# 한글, 영어 제외한 문자 제거\n",
    "df_test['answer'] = df_test['answer'].str.replace(\"[^a-zA-Zㄱ-ㅎㅏ-ㅣ가-힣 ]\",\"\")\n",
    "df_test.head()"
   ]
  },
  {
   "cell_type": "code",
   "execution_count": 35,
   "metadata": {},
   "outputs": [
    {
     "output_type": "stream",
     "name": "stdout",
     "text": [
      "0 Int64Index([], dtype='int64')\n"
     ]
    }
   ],
   "source": [
    "# 공백 여부 확인\n",
    "drop_idx = df_test[df_test.answer == \"\"].index\n",
    "print(len(drop_idx), drop_idx)"
   ]
  },
  {
   "cell_type": "code",
   "execution_count": 36,
   "metadata": {},
   "outputs": [
    {
     "output_type": "execute_result",
     "data": {
      "text/plain": [
       "answer    41\n",
       "dtype: int64"
      ]
     },
     "metadata": {},
     "execution_count": 36
    }
   ],
   "source": [
    "# null값 여부 확인\n",
    "df_test.isnull().sum()"
   ]
  },
  {
   "cell_type": "code",
   "execution_count": 37,
   "metadata": {},
   "outputs": [
    {
     "output_type": "execute_result",
     "data": {
      "text/plain": [
       "(104, 1)"
      ]
     },
     "metadata": {},
     "execution_count": 37
    }
   ],
   "source": [
    "# null값을 가지고 있는 행 제거\n",
    "df_test.dropna(axis=0, inplace=True)\n",
    "df_test.shape"
   ]
  },
  {
   "cell_type": "code",
   "execution_count": 38,
   "metadata": {},
   "outputs": [
    {
     "output_type": "execute_result",
     "data": {
      "text/plain": [
       "                                      answer\n",
       "0                                     비공개 답변\n",
       "1                                상승장에서 순환매예요\n",
       "2  보통주들이 오르고나면  우선주들도 나중에 테마를 형성해서  한번씩 급등해요\n",
       "5                     제 비트코인으로 유명한 파이코인 비코인 \n",
       "6                      스마트폰만 있으면 하루 한번 클릭으로 "
      ],
      "text/html": "<div>\n<style scoped>\n    .dataframe tbody tr th:only-of-type {\n        vertical-align: middle;\n    }\n\n    .dataframe tbody tr th {\n        vertical-align: top;\n    }\n\n    .dataframe thead th {\n        text-align: right;\n    }\n</style>\n<table border=\"1\" class=\"dataframe\">\n  <thead>\n    <tr style=\"text-align: right;\">\n      <th></th>\n      <th>answer</th>\n    </tr>\n  </thead>\n  <tbody>\n    <tr>\n      <th>0</th>\n      <td>비공개 답변</td>\n    </tr>\n    <tr>\n      <th>1</th>\n      <td>상승장에서 순환매예요</td>\n    </tr>\n    <tr>\n      <th>2</th>\n      <td>보통주들이 오르고나면  우선주들도 나중에 테마를 형성해서  한번씩 급등해요</td>\n    </tr>\n    <tr>\n      <th>5</th>\n      <td>제 비트코인으로 유명한 파이코인 비코인</td>\n    </tr>\n    <tr>\n      <th>6</th>\n      <td>스마트폰만 있으면 하루 한번 클릭으로</td>\n    </tr>\n  </tbody>\n</table>\n</div>"
     },
     "metadata": {},
     "execution_count": 38
    }
   ],
   "source": [
    "df_test.head()"
   ]
  },
  {
   "cell_type": "code",
   "execution_count": 39,
   "metadata": {},
   "outputs": [],
   "source": [
    "df_test.to_csv(f'./result/{KEYWORD}_{today}_res.txt', sep='\\t', index=False)"
   ]
  },
  {
   "cell_type": "code",
   "execution_count": null,
   "metadata": {},
   "outputs": [],
   "source": []
  }
 ]
}