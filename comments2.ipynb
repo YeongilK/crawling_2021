{
 "metadata": {
  "language_info": {
   "codemirror_mode": {
    "name": "ipython",
    "version": 3
   },
   "file_extension": ".py",
   "mimetype": "text/x-python",
   "name": "python",
   "nbconvert_exporter": "python",
   "pygments_lexer": "ipython3",
   "version": "3.8.6-final"
  },
  "orig_nbformat": 2,
  "kernelspec": {
   "name": "python386jvsc74a57bd025a6efafc31951e90de1c16a70e6d051f17722d346d4891fc1d97bd3c7f72235",
   "display_name": "Python 3.8.6 64-bit"
  }
 },
 "nbformat": 4,
 "nbformat_minor": 2,
 "cells": [
  {
   "source": [
    "# 유튜브 댓글 크롤링 (2)\n",
    "### keyword: 라이프해커자청"
   ],
   "cell_type": "markdown",
   "metadata": {}
  },
  {
   "cell_type": "code",
   "execution_count": 2,
   "metadata": {},
   "outputs": [],
   "source": [
    "import time\n",
    "from bs4 import BeautifulSoup\n",
    "from selenium import webdriver\n",
    "from selenium.webdriver.common.keys import Keys\n",
    "from urllib.parse import quote\n",
    "from tqdm import tqdm"
   ]
  },
  {
   "cell_type": "code",
   "execution_count": 12,
   "metadata": {},
   "outputs": [],
   "source": [
    "keyword = \"라이프해커자청\""
   ]
  },
  {
   "cell_type": "code",
   "execution_count": 13,
   "metadata": {},
   "outputs": [],
   "source": [
    "v_url_list = []\n",
    "driver = webdriver.Chrome('./chromedriver')\n",
    "driver.maximize_window()\n",
    "url = 'https://www.youtube.com/results?search_query=' + quote(keyword)\n",
    "driver.get(url)\n",
    "time.sleep(2)\n",
    "\n",
    "# channel_url, channel_id, channel_name 가져오기\n",
    "main_link = driver.find_element_by_id(\"main-link\")\n",
    "channel_url = main_link.get_attribute(\"href\")\n",
    "c_idx = channel_url.rfind(\"/\") + 1\n",
    "channel_id = channel_url[c_idx:]\n",
    "channel_name = main_link.find_element_by_id(\"text-container\").text\n",
    "\n",
    "# 채널 내 '동영상' 으로 이동\n",
    "main_link.click()\n",
    "time.sleep(1)\n",
    "driver.find_element_by_xpath('//*[@id=\"tabsContent\"]/tp-yt-paper-tab[2]/div').click()\n",
    "time.sleep(1)\n",
    "\n",
    "# 스크롤 끝까지 내리기\n",
    "last_page_height = driver.execute_script(\"return document.documentElement.scrollHeight\")\n",
    "driver.execute_script(\"window.scrollTo(0, 350);\")\n",
    "while True: \n",
    "    driver.execute_script(\"window.scrollTo(0, document.documentElement.scrollHeight);\") \n",
    "    time.sleep(3) \n",
    "    new_page_height = driver.execute_script(\"return document.documentElement.scrollHeight\") \n",
    "    if new_page_height == last_page_height: \n",
    "        break \n",
    "    last_page_height = new_page_height\n",
    "\n",
    "lis = driver.find_elements_by_id('thumbnail')\n",
    "\n",
    "for li in lis:\n",
    "    video_url = li.get_attribute(\"href\")\n",
    "    v_url_list.append(video_url)\n",
    "\n",
    "driver.close()"
   ]
  },
  {
   "cell_type": "code",
   "execution_count": 14,
   "metadata": {},
   "outputs": [
    {
     "output_type": "stream",
     "name": "stdout",
     "text": [
      "50 \n ['https://www.youtube.com/watch?v=AUCKb5b5UNs', 'https://www.youtube.com/watch?v=1Jgi2zSavT0', 'https://www.youtube.com/watch?v=4Yfu0-XHGgU', 'https://www.youtube.com/watch?v=SR2SWfIXt7s', 'https://www.youtube.com/watch?v=7qBpW5hHLho&list=PLdaXIYLRupw5LlrPXnDeBzbI8N8j6tnei', 'https://www.youtube.com/watch?v=KNqywKwNUSA', 'https://www.youtube.com/watch?v=WBlWGf70H1g', 'https://www.youtube.com/watch?v=07E2E0fiT54', 'https://www.youtube.com/watch?v=cnDoYsVJhfA', 'https://www.youtube.com/watch?v=0IYxVpuL-Qw', 'https://www.youtube.com/watch?v=GPuSUBHUDFA', 'https://www.youtube.com/watch?v=F0ZHHYl6Cyg', 'https://www.youtube.com/watch?v=fgdSQqDa7sE', 'https://www.youtube.com/watch?v=MLwDArWupOw', 'https://www.youtube.com/watch?v=f2hYXC1A5Nc', 'https://www.youtube.com/watch?v=1dsWprRplgU', 'https://www.youtube.com/watch?v=qPgvZrJwVHs', 'https://www.youtube.com/watch?v=GgP_TTGisBY', 'https://www.youtube.com/watch?v=imk6pmLy2zE', 'https://www.youtube.com/watch?v=PcFdkiYnXTI', 'https://www.youtube.com/watch?v=PPAGzwOw7So', 'https://www.youtube.com/watch?v=tfQ_b8BGHIs', 'https://www.youtube.com/watch?v=u1oSR9qXAkU', 'https://www.youtube.com/watch?v=9bvSBMONdZc', 'https://www.youtube.com/watch?v=gxzX4sQ4c1M', 'https://www.youtube.com/watch?v=AUCKb5b5UNs', 'https://www.youtube.com/watch?v=1Jgi2zSavT0', 'https://www.youtube.com/watch?v=rUKY_Qk_ezQ', 'https://www.youtube.com/watch?v=DFbVV-rQxak', 'https://www.youtube.com/watch?v=dCFc34nMsN4', 'https://www.youtube.com/watch?v=gMpjUpO5Tzs', 'https://www.youtube.com/watch?v=qPgvZrJwVHs', 'https://www.youtube.com/watch?v=FmWq6mIUu00', 'https://www.youtube.com/watch?v=v_ESC-96BKs', 'https://www.youtube.com/watch?v=n37OmQlZyuk', 'https://www.youtube.com/watch?v=kWJhfvCiHU8', 'https://www.youtube.com/watch?v=zODBFv7j6lI', 'https://www.youtube.com/watch?v=etgJEfFyCys', 'https://www.youtube.com/watch?v=f2hYXC1A5Nc', 'https://www.youtube.com/watch?v=XcE6OFFHBzE', 'https://www.youtube.com/watch?v=KfJD_s9QyY8', None, 'https://www.youtube.com/watch?v=fgdSQqDa7sE', 'https://www.youtube.com/watch?v=imk6pmLy2zE', 'https://www.youtube.com/watch?v=Wf2GekJxKH0', 'https://www.youtube.com/watch?v=DMofENBKTsQ', 'https://www.youtube.com/watch?v=MchWpJInCWQ', 'https://www.youtube.com/watch?v=FxwugbRTWL0', 'https://www.youtube.com/watch?v=7qBpW5hHLho', None]\n"
     ]
    }
   ],
   "source": [
    "print(len(v_url_list), \"\\n\", v_url_list)"
   ]
  },
  {
   "cell_type": "code",
   "execution_count": 15,
   "metadata": {},
   "outputs": [
    {
     "output_type": "stream",
     "name": "stderr",
     "text": [
      "100%|██████████| 50/50 [51:20<00:00, 61.60s/it]\n"
     ]
    }
   ],
   "source": [
    "comment_list = []; \n",
    "driver = webdriver.Chrome('./chromedriver')\n",
    "driver.maximize_window()\n",
    "for url in tqdm(v_url_list):\n",
    "    if url == None:\n",
    "        continue\n",
    "    else:\n",
    "        driver.get(url)\n",
    "        time.sleep(1)\n",
    "\n",
    "        # 스크롤 끝까지 내리기\n",
    "        last_height = driver.execute_script(\"return document.documentElement.scrollHeight\")\n",
    "        driver.execute_script(\"window.scrollTo(0, 350);\")\n",
    "        time.sleep(2)\n",
    "        while True:\n",
    "            driver.execute_script(\"window.scrollTo(0, document.documentElement.scrollHeight);\")\n",
    "            time.sleep(2)\n",
    "            new_height = driver.execute_script(\"return document.documentElement.scrollHeight\")\n",
    "            if new_height == last_height:\n",
    "                break\n",
    "            last_height = new_height\n",
    "\n",
    "        # 댓글 수집\n",
    "        contents = driver.find_element_by_class_name(\"style-scope ytd-item-section-renderer\")\n",
    "        try:\n",
    "            comments = contents.find_elements_by_tag_name('ytd-expander')\n",
    "            for comment in comments:\n",
    "                text = comment.find_element_by_tag_name('div').text\n",
    "                comment_list.append(text)\n",
    "        except NoSuchElementException:\n",
    "            continue\n",
    "\n",
    "driver.close()"
   ]
  },
  {
   "cell_type": "code",
   "execution_count": 16,
   "metadata": {
    "tags": []
   },
   "outputs": [
    {
     "output_type": "execute_result",
     "data": {
      "text/plain": [
       "15599"
      ]
     },
     "metadata": {},
     "execution_count": 16
    }
   ],
   "source": [
    "len(comment_list)"
   ]
  },
  {
   "source": [
    "### 댓글 원본 저장(전처리 X)"
   ],
   "cell_type": "markdown",
   "metadata": {}
  },
  {
   "cell_type": "code",
   "execution_count": 17,
   "metadata": {},
   "outputs": [
    {
     "output_type": "execute_result",
     "data": {
      "text/plain": [
       "                                            comments\n",
       "0  ㅜㅜ마지막 부분 보는데 주책맞게 살짝 울었네요. 아무튼 사업에 대한 스킬적인 것 보...\n",
       "1  와 진짜 끝까지 집중해서 들었어요 ㅠㅠㅠㅠ 제가 지금까지 가지고 있던 고민을 해결할...\n",
       "2                        세계를 최적화=홍익인간 (널리 인간을 이롭게하라)\n",
       "3  많은 인생의 실패자들은 포기할 때 자신이 성공에서 얼마나 가까이 있었는지 모른다.\\...\n",
       "4  진짜 성공한분들은 거의 비슷한 말을 하지만 들어야하는 사람들은 준비가 되어있나 싶다..."
      ],
      "text/html": "<div>\n<style scoped>\n    .dataframe tbody tr th:only-of-type {\n        vertical-align: middle;\n    }\n\n    .dataframe tbody tr th {\n        vertical-align: top;\n    }\n\n    .dataframe thead th {\n        text-align: right;\n    }\n</style>\n<table border=\"1\" class=\"dataframe\">\n  <thead>\n    <tr style=\"text-align: right;\">\n      <th></th>\n      <th>comments</th>\n    </tr>\n  </thead>\n  <tbody>\n    <tr>\n      <th>0</th>\n      <td>ㅜㅜ마지막 부분 보는데 주책맞게 살짝 울었네요. 아무튼 사업에 대한 스킬적인 것 보...</td>\n    </tr>\n    <tr>\n      <th>1</th>\n      <td>와 진짜 끝까지 집중해서 들었어요 ㅠㅠㅠㅠ 제가 지금까지 가지고 있던 고민을 해결할...</td>\n    </tr>\n    <tr>\n      <th>2</th>\n      <td>세계를 최적화=홍익인간 (널리 인간을 이롭게하라)</td>\n    </tr>\n    <tr>\n      <th>3</th>\n      <td>많은 인생의 실패자들은 포기할 때 자신이 성공에서 얼마나 가까이 있었는지 모른다.\\...</td>\n    </tr>\n    <tr>\n      <th>4</th>\n      <td>진짜 성공한분들은 거의 비슷한 말을 하지만 들어야하는 사람들은 준비가 되어있나 싶다...</td>\n    </tr>\n  </tbody>\n</table>\n</div>"
     },
     "metadata": {},
     "execution_count": 17
    }
   ],
   "source": [
    "import pandas as pd \n",
    "df = pd.DataFrame({\n",
    "    'comments': comment_list\n",
    "})\n",
    "df.head()"
   ]
  },
  {
   "cell_type": "code",
   "execution_count": 18,
   "metadata": {},
   "outputs": [],
   "source": [
    "df.to_csv('comments_origin2.txt', sep='\\t', index=False)"
   ]
  },
  {
   "source": [
    "### 데이터 전처리"
   ],
   "cell_type": "markdown",
   "metadata": {}
  },
  {
   "cell_type": "code",
   "execution_count": 3,
   "metadata": {},
   "outputs": [
    {
     "output_type": "execute_result",
     "data": {
      "text/plain": [
       "                                            comments\n",
       "0  ㅜㅜ마지막 부분 보는데 주책맞게 살짝 울었네요. 아무튼 사업에 대한 스킬적인 것 보...\n",
       "1  와 진짜 끝까지 집중해서 들었어요 ㅠㅠㅠㅠ 제가 지금까지 가지고 있던 고민을 해결할...\n",
       "2                        세계를 최적화=홍익인간 (널리 인간을 이롭게하라)\n",
       "3  많은 인생의 실패자들은 포기할 때 자신이 성공에서 얼마나 가까이 있었는지 모른다.\\...\n",
       "4  진짜 성공한분들은 거의 비슷한 말을 하지만 들어야하는 사람들은 준비가 되어있나 싶다..."
      ],
      "text/html": "<div>\n<style scoped>\n    .dataframe tbody tr th:only-of-type {\n        vertical-align: middle;\n    }\n\n    .dataframe tbody tr th {\n        vertical-align: top;\n    }\n\n    .dataframe thead th {\n        text-align: right;\n    }\n</style>\n<table border=\"1\" class=\"dataframe\">\n  <thead>\n    <tr style=\"text-align: right;\">\n      <th></th>\n      <th>comments</th>\n    </tr>\n  </thead>\n  <tbody>\n    <tr>\n      <th>0</th>\n      <td>ㅜㅜ마지막 부분 보는데 주책맞게 살짝 울었네요. 아무튼 사업에 대한 스킬적인 것 보...</td>\n    </tr>\n    <tr>\n      <th>1</th>\n      <td>와 진짜 끝까지 집중해서 들었어요 ㅠㅠㅠㅠ 제가 지금까지 가지고 있던 고민을 해결할...</td>\n    </tr>\n    <tr>\n      <th>2</th>\n      <td>세계를 최적화=홍익인간 (널리 인간을 이롭게하라)</td>\n    </tr>\n    <tr>\n      <th>3</th>\n      <td>많은 인생의 실패자들은 포기할 때 자신이 성공에서 얼마나 가까이 있었는지 모른다.\\...</td>\n    </tr>\n    <tr>\n      <th>4</th>\n      <td>진짜 성공한분들은 거의 비슷한 말을 하지만 들어야하는 사람들은 준비가 되어있나 싶다...</td>\n    </tr>\n  </tbody>\n</table>\n</div>"
     },
     "metadata": {},
     "execution_count": 3
    }
   ],
   "source": [
    "import pandas as pd \n",
    "df_test = pd.read_table('./comments_origin2.txt')\n",
    "df_test.head()"
   ]
  },
  {
   "cell_type": "code",
   "execution_count": 4,
   "metadata": {},
   "outputs": [
    {
     "output_type": "execute_result",
     "data": {
      "text/plain": [
       "(15599, 1)"
      ]
     },
     "metadata": {},
     "execution_count": 4
    }
   ],
   "source": [
    "df_test.shape"
   ]
  },
  {
   "cell_type": "code",
   "execution_count": 5,
   "metadata": {},
   "outputs": [
    {
     "output_type": "stream",
     "name": "stderr",
     "text": [
      "<ipython-input-5-4884171cc048>:1: FutureWarning: The default value of regex will change from True to False in a future version.\n  df_test['comments'] = df_test['comments'].str.replace(\"[^a-zA-Zㄱ-ㅎㅏ-ㅣ가-힣 ]\",\"\")\n"
     ]
    },
    {
     "output_type": "execute_result",
     "data": {
      "text/plain": [
       "                                            comments\n",
       "0  ㅜㅜ마지막 부분 보는데 주책맞게 살짝 울었네요 아무튼 사업에 대한 스킬적인 것 보다...\n",
       "1  와 진짜 끝까지 집중해서 들었어요 ㅠㅠㅠㅠ 제가 지금까지 가지고 있던 고민을 해결할...\n",
       "2                           세계를 최적화홍익인간 널리 인간을 이롭게하라\n",
       "3  많은 인생의 실패자들은 포기할 때 자신이 성공에서 얼마나 가까이 있었는지 모른다 토...\n",
       "4  진짜 성공한분들은 거의 비슷한 말을 하지만 들어야하는 사람들은 준비가 되어있나 싶다..."
      ],
      "text/html": "<div>\n<style scoped>\n    .dataframe tbody tr th:only-of-type {\n        vertical-align: middle;\n    }\n\n    .dataframe tbody tr th {\n        vertical-align: top;\n    }\n\n    .dataframe thead th {\n        text-align: right;\n    }\n</style>\n<table border=\"1\" class=\"dataframe\">\n  <thead>\n    <tr style=\"text-align: right;\">\n      <th></th>\n      <th>comments</th>\n    </tr>\n  </thead>\n  <tbody>\n    <tr>\n      <th>0</th>\n      <td>ㅜㅜ마지막 부분 보는데 주책맞게 살짝 울었네요 아무튼 사업에 대한 스킬적인 것 보다...</td>\n    </tr>\n    <tr>\n      <th>1</th>\n      <td>와 진짜 끝까지 집중해서 들었어요 ㅠㅠㅠㅠ 제가 지금까지 가지고 있던 고민을 해결할...</td>\n    </tr>\n    <tr>\n      <th>2</th>\n      <td>세계를 최적화홍익인간 널리 인간을 이롭게하라</td>\n    </tr>\n    <tr>\n      <th>3</th>\n      <td>많은 인생의 실패자들은 포기할 때 자신이 성공에서 얼마나 가까이 있었는지 모른다 토...</td>\n    </tr>\n    <tr>\n      <th>4</th>\n      <td>진짜 성공한분들은 거의 비슷한 말을 하지만 들어야하는 사람들은 준비가 되어있나 싶다...</td>\n    </tr>\n  </tbody>\n</table>\n</div>"
     },
     "metadata": {},
     "execution_count": 5
    }
   ],
   "source": [
    "df_test['comments'] = df_test['comments'].str.replace(\"[^a-zA-Zㄱ-ㅎㅏ-ㅣ가-힣 ]\",\"\")\n",
    "df_test.head()"
   ]
  },
  {
   "cell_type": "code",
   "execution_count": 6,
   "metadata": {},
   "outputs": [
    {
     "output_type": "stream",
     "name": "stdout",
     "text": [
      "102 Int64Index([  929,  1002,  1040,  1049,  1319,  1339,  1670,  2180,  2264,\n             2269,\n            ...\n            14303, 14308, 14328, 14349, 14517, 14527, 14543, 15268, 15318,\n            15588],\n           dtype='int64', length=102)\n"
     ]
    }
   ],
   "source": [
    "# 'comments' 값 공백 여부 확인\n",
    "drop_idx = df_test[df_test.comments == \"\"].index\n",
    "print(len(drop_idx), drop_idx)"
   ]
  },
  {
   "cell_type": "code",
   "execution_count": 7,
   "metadata": {},
   "outputs": [
    {
     "output_type": "execute_result",
     "data": {
      "text/plain": [
       "(15497, 1)"
      ]
     },
     "metadata": {},
     "execution_count": 7
    }
   ],
   "source": [
    "# 공백 값을 가지고 있는 해당 인덱스 행 제거\n",
    "df_test.drop(drop_idx, inplace=True)\n",
    "df_test.shape"
   ]
  },
  {
   "cell_type": "code",
   "execution_count": 8,
   "metadata": {},
   "outputs": [
    {
     "output_type": "execute_result",
     "data": {
      "text/plain": [
       "(11761, 1)"
      ]
     },
     "metadata": {},
     "execution_count": 8
    }
   ],
   "source": [
    "# 중복 제거\n",
    "df_test.drop_duplicates(['comments'], inplace=True)\n",
    "df_test.shape"
   ]
  },
  {
   "cell_type": "code",
   "execution_count": 9,
   "metadata": {},
   "outputs": [
    {
     "output_type": "execute_result",
     "data": {
      "text/plain": [
       "comments    0\n",
       "dtype: int64"
      ]
     },
     "metadata": {},
     "execution_count": 9
    }
   ],
   "source": [
    "# null값 여부 확인\n",
    "df_test.isnull().sum()"
   ]
  },
  {
   "cell_type": "code",
   "execution_count": 10,
   "metadata": {},
   "outputs": [
    {
     "output_type": "execute_result",
     "data": {
      "text/plain": [
       "                                            comments\n",
       "0  ㅜㅜ마지막 부분 보는데 주책맞게 살짝 울었네요 아무튼 사업에 대한 스킬적인 것 보다...\n",
       "1  와 진짜 끝까지 집중해서 들었어요 ㅠㅠㅠㅠ 제가 지금까지 가지고 있던 고민을 해결할...\n",
       "2                           세계를 최적화홍익인간 널리 인간을 이롭게하라\n",
       "3  많은 인생의 실패자들은 포기할 때 자신이 성공에서 얼마나 가까이 있었는지 모른다 토...\n",
       "4  진짜 성공한분들은 거의 비슷한 말을 하지만 들어야하는 사람들은 준비가 되어있나 싶다..."
      ],
      "text/html": "<div>\n<style scoped>\n    .dataframe tbody tr th:only-of-type {\n        vertical-align: middle;\n    }\n\n    .dataframe tbody tr th {\n        vertical-align: top;\n    }\n\n    .dataframe thead th {\n        text-align: right;\n    }\n</style>\n<table border=\"1\" class=\"dataframe\">\n  <thead>\n    <tr style=\"text-align: right;\">\n      <th></th>\n      <th>comments</th>\n    </tr>\n  </thead>\n  <tbody>\n    <tr>\n      <th>0</th>\n      <td>ㅜㅜ마지막 부분 보는데 주책맞게 살짝 울었네요 아무튼 사업에 대한 스킬적인 것 보다...</td>\n    </tr>\n    <tr>\n      <th>1</th>\n      <td>와 진짜 끝까지 집중해서 들었어요 ㅠㅠㅠㅠ 제가 지금까지 가지고 있던 고민을 해결할...</td>\n    </tr>\n    <tr>\n      <th>2</th>\n      <td>세계를 최적화홍익인간 널리 인간을 이롭게하라</td>\n    </tr>\n    <tr>\n      <th>3</th>\n      <td>많은 인생의 실패자들은 포기할 때 자신이 성공에서 얼마나 가까이 있었는지 모른다 토...</td>\n    </tr>\n    <tr>\n      <th>4</th>\n      <td>진짜 성공한분들은 거의 비슷한 말을 하지만 들어야하는 사람들은 준비가 되어있나 싶다...</td>\n    </tr>\n  </tbody>\n</table>\n</div>"
     },
     "metadata": {},
     "execution_count": 10
    }
   ],
   "source": [
    "df_test.head()"
   ]
  },
  {
   "cell_type": "code",
   "execution_count": 11,
   "metadata": {},
   "outputs": [
    {
     "output_type": "stream",
     "name": "stdout",
     "text": [
      "전처리 후 샘플의 개수: 11761\n"
     ]
    }
   ],
   "source": [
    "print(f'전처리 후 샘플의 개수: {len(df_test)}')"
   ]
  },
  {
   "cell_type": "code",
   "execution_count": 12,
   "metadata": {},
   "outputs": [],
   "source": [
    "df_test.to_csv('comments_result2.txt', sep='\\t', index=False)"
   ]
  },
  {
   "cell_type": "code",
   "execution_count": null,
   "metadata": {},
   "outputs": [],
   "source": []
  }
 ]
}