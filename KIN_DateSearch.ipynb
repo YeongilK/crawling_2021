{
 "metadata": {
  "language_info": {
   "codemirror_mode": {
    "name": "ipython",
    "version": 3
   },
   "file_extension": ".py",
   "mimetype": "text/x-python",
   "name": "python",
   "nbconvert_exporter": "python",
   "pygments_lexer": "ipython3",
   "version": "3.8.6-final"
  },
  "orig_nbformat": 2,
  "kernelspec": {
   "name": "python386jvsc74a57bd025a6efafc31951e90de1c16a70e6d051f17722d346d4891fc1d97bd3c7f72235",
   "display_name": "Python 3.8.6 64-bit"
  }
 },
 "nbformat": 4,
 "nbformat_minor": 2,
 "cells": [
  {
   "source": [
    "# 네이버 지식인 크롤링"
   ],
   "cell_type": "markdown",
   "metadata": {}
  },
  {
   "cell_type": "code",
   "execution_count": 2,
   "metadata": {},
   "outputs": [],
   "source": [
    "import time\n",
    "import pandas as pd \n",
    "from bs4 import BeautifulSoup\n",
    "from selenium import webdriver\n",
    "from selenium.webdriver.remote.webelement import WebElement\n",
    "from selenium.webdriver.common.keys import Keys\n",
    "from selenium.webdriver import ActionChains\n",
    "from urllib.parse import quote\n",
    "from tqdm import tqdm\n",
    "from datetime import datetime, timedelta"
   ]
  },
  {
   "source": [
    "## 날짜 입력\n",
    "- 며칠동안의 데이터를 수집할지 입력\n",
    "- 입력값: 3 -> 3일전 ~ 오늘날짜"
   ],
   "cell_type": "markdown",
   "metadata": {}
  },
  {
   "cell_type": "code",
   "execution_count": 3,
   "metadata": {},
   "outputs": [],
   "source": [
    "KEYWORD = '대선후보'\n",
    "N = 3\n",
    "start_date = datetime.today() - timedelta(N)\n",
    "FROM_DATE = start_date.strftime(\"%Y.%m.%d.\")\n",
    "TO_DATE = datetime.today().strftime(\"%Y.%m.%d.\")"
   ]
  },
  {
   "cell_type": "code",
   "execution_count": 7,
   "metadata": {},
   "outputs": [
    {
     "output_type": "stream",
     "name": "stdout",
     "text": [
      "2021.04.17. 2021.04.20.\n"
     ]
    }
   ],
   "source": [
    "print(FROM_DATE, TO_DATE)"
   ]
  },
  {
   "cell_type": "code",
   "execution_count": 8,
   "metadata": {},
   "outputs": [
    {
     "output_type": "stream",
     "name": "stdout",
     "text": [
      "전체 페이지 수:  3\n"
     ]
    }
   ],
   "source": [
    "driver = webdriver.Chrome('./chromedriver')\n",
    "driver.maximize_window()\n",
    "base_url = \"https://www.naver.com/\"\n",
    "driver.get(base_url)\n",
    "time.sleep(1)\n",
    "\n",
    "# 지식iN 으로 이동\n",
    "nav = driver.find_element_by_id('NM_FAVORITE')\n",
    "lis = nav.find_element_by_tag_name('ul').find_elements_by_tag_name('li')\n",
    "lis[3].click()\n",
    "\n",
    "# 키워드 검색 후 최신순 정렬\n",
    "search_area = driver.find_element_by_class_name('search_area')\n",
    "search_area.find_element_by_tag_name('input').send_keys(KEYWORD)    # 키워드 입력\n",
    "driver.find_element_by_class_name('search_btn').click()     # 검색\n",
    "driver.find_element_by_class_name('option_sort').find_elements_by_tag_name('li')[1].click()     # '최신순' 클릭\n",
    "time.sleep(1)\n",
    "\n",
    "# 기간 검색: FROM_DATE ~ TO_DATE\n",
    "driver.find_element_by_id('au_date_select').click()\n",
    "time.sleep(1)\n",
    "from_date = driver.find_element_by_id('sel_from_date')\n",
    "to_date = driver.find_element_by_id('sel_to_date')\n",
    "# 시작날짜, 완료날짜 입력\n",
    "actions = ActionChains(driver).double_click(from_date).send_keys(FROM_DATE).double_click(to_date).send_keys(TO_DATE)\n",
    "actions.perform()\n",
    "driver.find_element_by_xpath('/html/body/div[3]/div/ul/li[4]/input[3]').click()\n",
    "\n",
    "# 전체 페이지수 수집\n",
    "while True:\n",
    "    pagination = driver.find_element_by_class_name('s_paging')\n",
    "    pages = pagination.find_elements_by_tag_name('a')\n",
    "    tmp = []\n",
    "    for page in pages:\n",
    "        tmp.append(page.text)\n",
    "    if '다음페이지' in tmp:\n",
    "        pages[-1].click()\n",
    "        time.sleep(2)\n",
    "    else:\n",
    "        NUM_OF_PAGE = int(pagination.text.split()[-1])\n",
    "        break\n",
    "print(\"전체 페이지 수: \", NUM_OF_PAGE)\n",
    "driver.close()"
   ]
  },
  {
   "cell_type": "code",
   "execution_count": 9,
   "metadata": {},
   "outputs": [
    {
     "output_type": "stream",
     "name": "stdout",
     "text": [
      "총 21개의 질문\n",
      "1번째 : 1\n",
      "2번째 : 2\n",
      "3번째 : 5\n",
      "4번째 : 1\n",
      "5번째 : 1\n",
      "6번째 : 3\n",
      "7번째 : 3\n",
      "8번째 : 3\n",
      "9번째 : 5\n",
      "10번째 : 3\n",
      "11번째 : 1\n",
      "12번째 : 2\n",
      "13번째 : 4\n",
      "14번째 : 1\n",
      "15번째 : 6\n",
      "16번째 : 6\n",
      "17번째 : 1\n",
      "18번째 : 3\n",
      "19번째 : 5\n",
      "20번째 : 2\n",
      "21번째 : 12\n",
      "----------------------------------\n",
      "Total 답변 개수: 70\n"
     ]
    }
   ],
   "source": [
    "driver = webdriver.Chrome('./chromedriver')\n",
    "driver.maximize_window()\n",
    "ans_url_list = []; total_ans = 0\n",
    "\n",
    "# 질문들의 url 수집\n",
    "for page in range(NUM_OF_PAGE):\n",
    "    kin_url = f'https://kin.naver.com/search/list.nhn?sort=date&query={quote(KEYWORD)}'\n",
    "    period_url = f'&period={FROM_DATE}%7C{TO_DATE}&section=kin'\n",
    "    page_url = f'&page={page+1}'\n",
    "    url = kin_url + period_url + page_url\n",
    "    driver.get(url)\n",
    "    time.sleep(1)\n",
    "    #print(f\"{page+1} 페이지\")\n",
    "\n",
    "    ul = driver.find_element_by_xpath('//*[@id=\"s_content\"]/div[3]/ul')\n",
    "    lis = ul.find_elements_by_tag_name('li')\n",
    "    for li in lis:\n",
    "        a_tag = li.find_element_by_tag_name('a')\n",
    "        ans_url_list.append(a_tag.get_attribute('href'))\n",
    "\n",
    "print(f'총 {len(ans_url_list)}개의 질문')\n",
    "\n",
    "# 각 질문의 답변 개수\n",
    "for i, ans_url in enumerate(ans_url_list):\n",
    "    driver.get(ans_url)\n",
    "    time.sleep(0.5)\n",
    "    ans_cnt = int(driver.find_element_by_class_name('_answerCount.num').text)\n",
    "    total_ans += ans_cnt\n",
    "    print(f'{i+1}번째 : {ans_cnt}')\n",
    "print(\"----------------------------------\")\n",
    "print(f'Total 답변 개수: {total_ans}')\n",
    "\n",
    "driver.close()"
   ]
  },
  {
   "cell_type": "code",
   "execution_count": 10,
   "metadata": {},
   "outputs": [
    {
     "output_type": "stream",
     "name": "stderr",
     "text": [
      "100%|██████████| 21/21 [01:14<00:00,  3.56s/it]\n"
     ]
    }
   ],
   "source": [
    "driver = webdriver.Chrome('./chromedriver')\n",
    "driver.maximize_window()\n",
    "answer_text_list = []\n",
    "\n",
    "for ans_url in tqdm(ans_url_list):\n",
    "    driver.get(ans_url)\n",
    "    time.sleep(1)\n",
    "    more = driver.find_element_by_xpath('//*[@id=\"nextPageButton\"]')\n",
    "    disp = more.get_attribute('style')      # 더보기 할 답변이 남아있지 않은 경우 \"style:None\" 이 존재한다\n",
    "    try:\n",
    "        # 더보기 할 답변이 남지 않을 때까지 while문을 돌린다\n",
    "        while disp:     \n",
    "            driver.find_element_by_id('nextPageButton').click()\n",
    "            time.sleep(1)\n",
    "    except:\n",
    "        time.sleep(1)\n",
    "    answers = driver.find_elements_by_class_name('answer-content__item._contentWrap._answer')\n",
    "    for ans in answers:\n",
    "        ps = ans.find_elements_by_tag_name('p')\n",
    "        for p in ps:\n",
    "            answer_text_list.append(p.text)\n",
    "driver.close()"
   ]
  },
  {
   "cell_type": "code",
   "execution_count": 11,
   "metadata": {},
   "outputs": [
    {
     "output_type": "execute_result",
     "data": {
      "text/plain": [
       "1694"
      ]
     },
     "metadata": {},
     "execution_count": 11
    }
   ],
   "source": [
    "len(answer_text_list)"
   ]
  },
  {
   "source": [
    "### 원본 저장(전처리 X)"
   ],
   "cell_type": "markdown",
   "metadata": {}
  },
  {
   "cell_type": "code",
   "execution_count": 12,
   "metadata": {},
   "outputs": [
    {
     "output_type": "execute_result",
     "data": {
      "text/plain": [
       "                 answer\n",
       "0         xogh**** 님 답변\n",
       "1  2022년 차기 대통령 선거 일정이 \n",
       "2     3월로 예정이 되면서 이에 따라\n",
       "3       대선 후보주자들 중 이재명은\n",
       "4      유력 후보주자 중 한명입니다."
      ],
      "text/html": "<div>\n<style scoped>\n    .dataframe tbody tr th:only-of-type {\n        vertical-align: middle;\n    }\n\n    .dataframe tbody tr th {\n        vertical-align: top;\n    }\n\n    .dataframe thead th {\n        text-align: right;\n    }\n</style>\n<table border=\"1\" class=\"dataframe\">\n  <thead>\n    <tr style=\"text-align: right;\">\n      <th></th>\n      <th>answer</th>\n    </tr>\n  </thead>\n  <tbody>\n    <tr>\n      <th>0</th>\n      <td>xogh**** 님 답변</td>\n    </tr>\n    <tr>\n      <th>1</th>\n      <td>2022년 차기 대통령 선거 일정이</td>\n    </tr>\n    <tr>\n      <th>2</th>\n      <td>3월로 예정이 되면서 이에 따라</td>\n    </tr>\n    <tr>\n      <th>3</th>\n      <td>대선 후보주자들 중 이재명은</td>\n    </tr>\n    <tr>\n      <th>4</th>\n      <td>유력 후보주자 중 한명입니다.</td>\n    </tr>\n  </tbody>\n</table>\n</div>"
     },
     "metadata": {},
     "execution_count": 12
    }
   ],
   "source": [
    "df = pd.DataFrame({\n",
    "    'answer': answer_text_list\n",
    "})\n",
    "df.head()"
   ]
  },
  {
   "cell_type": "code",
   "execution_count": 13,
   "metadata": {},
   "outputs": [
    {
     "output_type": "stream",
     "name": "stdout",
     "text": [
      "210417 210420\n"
     ]
    }
   ],
   "source": [
    "start = start_date.strftime(\"%y%m%d\")\n",
    "end = datetime.today().strftime(\"%y%m%d\")\n",
    "print(start, end)"
   ]
  },
  {
   "cell_type": "code",
   "execution_count": 14,
   "metadata": {},
   "outputs": [],
   "source": [
    "df.to_csv(f'./data/{KEYWORD}_{start}_to_{end}_org.txt', sep='\\t', index=False)"
   ]
  },
  {
   "source": [
    "### 데이터 전처리"
   ],
   "cell_type": "markdown",
   "metadata": {}
  },
  {
   "cell_type": "code",
   "execution_count": 15,
   "metadata": {},
   "outputs": [
    {
     "output_type": "execute_result",
     "data": {
      "text/plain": [
       "                 answer\n",
       "0         xogh**** 님 답변\n",
       "1  2022년 차기 대통령 선거 일정이 \n",
       "2     3월로 예정이 되면서 이에 따라\n",
       "3       대선 후보주자들 중 이재명은\n",
       "4      유력 후보주자 중 한명입니다."
      ],
      "text/html": "<div>\n<style scoped>\n    .dataframe tbody tr th:only-of-type {\n        vertical-align: middle;\n    }\n\n    .dataframe tbody tr th {\n        vertical-align: top;\n    }\n\n    .dataframe thead th {\n        text-align: right;\n    }\n</style>\n<table border=\"1\" class=\"dataframe\">\n  <thead>\n    <tr style=\"text-align: right;\">\n      <th></th>\n      <th>answer</th>\n    </tr>\n  </thead>\n  <tbody>\n    <tr>\n      <th>0</th>\n      <td>xogh**** 님 답변</td>\n    </tr>\n    <tr>\n      <th>1</th>\n      <td>2022년 차기 대통령 선거 일정이</td>\n    </tr>\n    <tr>\n      <th>2</th>\n      <td>3월로 예정이 되면서 이에 따라</td>\n    </tr>\n    <tr>\n      <th>3</th>\n      <td>대선 후보주자들 중 이재명은</td>\n    </tr>\n    <tr>\n      <th>4</th>\n      <td>유력 후보주자 중 한명입니다.</td>\n    </tr>\n  </tbody>\n</table>\n</div>"
     },
     "metadata": {},
     "execution_count": 15
    }
   ],
   "source": [
    "df_test = pd.read_table(f'./data/{KEYWORD}_{start}_to_{end}_org.txt')\n",
    "df_test.head()"
   ]
  },
  {
   "cell_type": "code",
   "execution_count": 16,
   "metadata": {},
   "outputs": [
    {
     "output_type": "execute_result",
     "data": {
      "text/plain": [
       "(1679, 1)"
      ]
     },
     "metadata": {},
     "execution_count": 16
    }
   ],
   "source": [
    "df_test.shape"
   ]
  },
  {
   "cell_type": "code",
   "execution_count": 17,
   "metadata": {},
   "outputs": [
    {
     "output_type": "stream",
     "name": "stdout",
     "text": [
      "0 Int64Index([], dtype='int64')\n"
     ]
    }
   ],
   "source": [
    "# 공백 여부 확인\n",
    "drop_idx = df_test[df_test.answer == \"\"].index\n",
    "print(len(drop_idx), drop_idx)"
   ]
  },
  {
   "cell_type": "code",
   "execution_count": 18,
   "metadata": {},
   "outputs": [
    {
     "output_type": "execute_result",
     "data": {
      "text/plain": [
       "answer    472\n",
       "dtype: int64"
      ]
     },
     "metadata": {},
     "execution_count": 18
    }
   ],
   "source": [
    "# null값 여부 확인\n",
    "df_test.isnull().sum()"
   ]
  },
  {
   "cell_type": "code",
   "execution_count": 19,
   "metadata": {},
   "outputs": [
    {
     "output_type": "execute_result",
     "data": {
      "text/plain": [
       "(1207, 1)"
      ]
     },
     "metadata": {},
     "execution_count": 19
    }
   ],
   "source": [
    "# null값을 가지고 있는 행 제거\n",
    "df_test.dropna(axis=0, inplace=True)\n",
    "df_test.shape"
   ]
  },
  {
   "cell_type": "code",
   "execution_count": 20,
   "metadata": {},
   "outputs": [
    {
     "output_type": "execute_result",
     "data": {
      "text/plain": [
       "                 answer\n",
       "0         xogh**** 님 답변\n",
       "1  2022년 차기 대통령 선거 일정이 \n",
       "2     3월로 예정이 되면서 이에 따라\n",
       "3       대선 후보주자들 중 이재명은\n",
       "4      유력 후보주자 중 한명입니다."
      ],
      "text/html": "<div>\n<style scoped>\n    .dataframe tbody tr th:only-of-type {\n        vertical-align: middle;\n    }\n\n    .dataframe tbody tr th {\n        vertical-align: top;\n    }\n\n    .dataframe thead th {\n        text-align: right;\n    }\n</style>\n<table border=\"1\" class=\"dataframe\">\n  <thead>\n    <tr style=\"text-align: right;\">\n      <th></th>\n      <th>answer</th>\n    </tr>\n  </thead>\n  <tbody>\n    <tr>\n      <th>0</th>\n      <td>xogh**** 님 답변</td>\n    </tr>\n    <tr>\n      <th>1</th>\n      <td>2022년 차기 대통령 선거 일정이</td>\n    </tr>\n    <tr>\n      <th>2</th>\n      <td>3월로 예정이 되면서 이에 따라</td>\n    </tr>\n    <tr>\n      <th>3</th>\n      <td>대선 후보주자들 중 이재명은</td>\n    </tr>\n    <tr>\n      <th>4</th>\n      <td>유력 후보주자 중 한명입니다.</td>\n    </tr>\n  </tbody>\n</table>\n</div>"
     },
     "metadata": {},
     "execution_count": 20
    }
   ],
   "source": [
    "df_test.head()"
   ]
  },
  {
   "cell_type": "code",
   "execution_count": 21,
   "metadata": {},
   "outputs": [
    {
     "output_type": "stream",
     "name": "stdout",
     "text": [
      "전처리 후 샘플의 개수: 1207\n"
     ]
    }
   ],
   "source": [
    "print(f'전처리 후 샘플의 개수: {len(df_test)}')"
   ]
  },
  {
   "cell_type": "code",
   "execution_count": 22,
   "metadata": {},
   "outputs": [],
   "source": [
    "df_test.to_csv(f'./result/{KEYWORD}_{start}_to_{end}_res.txt', sep='\\t', index=False)"
   ]
  },
  {
   "cell_type": "code",
   "execution_count": null,
   "metadata": {},
   "outputs": [],
   "source": []
  }
 ]
}