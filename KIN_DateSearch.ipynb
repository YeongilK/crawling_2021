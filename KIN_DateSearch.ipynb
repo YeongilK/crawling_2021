{
 "metadata": {
  "language_info": {
   "codemirror_mode": {
    "name": "ipython",
    "version": 3
   },
   "file_extension": ".py",
   "mimetype": "text/x-python",
   "name": "python",
   "nbconvert_exporter": "python",
   "pygments_lexer": "ipython3",
   "version": "3.8.6-final"
  },
  "orig_nbformat": 2,
  "kernelspec": {
   "name": "python386jvsc74a57bd025a6efafc31951e90de1c16a70e6d051f17722d346d4891fc1d97bd3c7f72235",
   "display_name": "Python 3.8.6 64-bit"
  }
 },
 "nbformat": 4,
 "nbformat_minor": 2,
 "cells": [
  {
   "source": [
    "# 네이버 지식인 크롤링\n",
    "- keyword 임의 설정"
   ],
   "cell_type": "markdown",
   "metadata": {}
  },
  {
   "cell_type": "code",
   "execution_count": 1,
   "metadata": {},
   "outputs": [],
   "source": [
    "import time\n",
    "import pandas as pd \n",
    "from bs4 import BeautifulSoup\n",
    "from selenium import webdriver\n",
    "from selenium.webdriver.remote.webelement import WebElement\n",
    "from selenium.webdriver.common.keys import Keys\n",
    "from selenium.webdriver import ActionChains\n",
    "from urllib.parse import quote\n",
    "from tqdm import tqdm\n",
    "from datetime import datetime, timedelta"
   ]
  },
  {
   "source": [
    "## 날짜 입력\n",
    "- 며칠동안의 데이터를 수집할지 입력\n",
    "- 입력값 N = 3 -> 3일전 ~ 오늘날짜"
   ],
   "cell_type": "markdown",
   "metadata": {}
  },
  {
   "cell_type": "code",
   "execution_count": 2,
   "metadata": {},
   "outputs": [],
   "source": [
    "KEYWORD = '전기차'\n",
    "N = 5\n",
    "start_date = datetime.today() - timedelta(N)\n",
    "FROM_DATE = start_date.strftime(\"%Y.%m.%d.\")\n",
    "TO_DATE = datetime.today().strftime(\"%Y.%m.%d.\")"
   ]
  },
  {
   "cell_type": "code",
   "execution_count": 25,
   "metadata": {},
   "outputs": [
    {
     "output_type": "stream",
     "name": "stdout",
     "text": [
      "2021.04.15. 2021.04.20.\n"
     ]
    }
   ],
   "source": [
    "print(FROM_DATE, TO_DATE)"
   ]
  },
  {
   "cell_type": "code",
   "execution_count": 27,
   "metadata": {},
   "outputs": [
    {
     "output_type": "stream",
     "name": "stdout",
     "text": [
      "전체 페이지 수:  20\n"
     ]
    }
   ],
   "source": [
    "driver = webdriver.Chrome('./chromedriver')\n",
    "driver.maximize_window()\n",
    "base_url = \"https://www.naver.com/\"\n",
    "driver.get(base_url)\n",
    "time.sleep(1)\n",
    "\n",
    "# 지식iN 으로 이동\n",
    "nav = driver.find_element_by_id('NM_FAVORITE')\n",
    "lis = nav.find_element_by_tag_name('ul').find_elements_by_tag_name('li')\n",
    "lis[3].click()\n",
    "\n",
    "# 키워드 검색 후 최신순 정렬\n",
    "search_area = driver.find_element_by_class_name('search_area')\n",
    "search_area.find_element_by_tag_name('input').send_keys(KEYWORD)    # 키워드 입력\n",
    "driver.find_element_by_class_name('search_btn').click()     # 검색\n",
    "driver.find_element_by_class_name('option_sort').find_elements_by_tag_name('li')[1].click()     # '최신순' 클릭\n",
    "time.sleep(1)\n",
    "\n",
    "# 기간 검색: FROM_DATE ~ TO_DATE\n",
    "driver.find_element_by_id('au_date_select').click()\n",
    "time.sleep(1)\n",
    "from_date = driver.find_element_by_id('sel_from_date')\n",
    "to_date = driver.find_element_by_id('sel_to_date')\n",
    "# 시작날짜, 완료날짜 입력\n",
    "actions = ActionChains(driver).double_click(from_date).send_keys(FROM_DATE).double_click(to_date).send_keys(TO_DATE)\n",
    "actions.perform()\n",
    "driver.find_element_by_xpath('/html/body/div[3]/div/ul/li[4]/input[3]').click()\n",
    "\n",
    "# 전체 페이지수 수집\n",
    "while True:\n",
    "    pagination = driver.find_element_by_class_name('s_paging')\n",
    "    pages = pagination.find_elements_by_tag_name('a')\n",
    "    tmp = []\n",
    "    for page in pages:\n",
    "        tmp.append(page.text)\n",
    "    if '다음페이지' in tmp:\n",
    "        pages[-1].click()\n",
    "        time.sleep(2)\n",
    "    else:\n",
    "        NUM_OF_PAGE = int(pagination.text.split()[-1])\n",
    "        break\n",
    "print(\"전체 페이지 수: \", NUM_OF_PAGE)\n",
    "driver.close()"
   ]
  },
  {
   "cell_type": "code",
   "execution_count": 28,
   "metadata": {},
   "outputs": [
    {
     "output_type": "stream",
     "name": "stdout",
     "text": [
      "총 196개의 질문\n",
      "1번째 : 2\n",
      "2번째 : 1\n",
      "3번째 : 3\n",
      "4번째 : 7\n",
      "5번째 : 1\n",
      "6번째 : 2\n",
      "7번째 : 1\n",
      "8번째 : 1\n",
      "9번째 : 1\n",
      "10번째 : 4\n",
      "11번째 : 2\n",
      "12번째 : 11\n",
      "13번째 : 3\n",
      "14번째 : 3\n",
      "15번째 : 1\n",
      "16번째 : 5\n",
      "17번째 : 5\n",
      "18번째 : 1\n",
      "19번째 : 7\n",
      "20번째 : 15\n",
      "21번째 : 1\n",
      "22번째 : 1\n",
      "23번째 : 1\n",
      "24번째 : 3\n",
      "25번째 : 3\n",
      "26번째 : 1\n",
      "27번째 : 5\n",
      "28번째 : 7\n",
      "29번째 : 15\n",
      "30번째 : 2\n",
      "31번째 : 10\n",
      "32번째 : 3\n",
      "33번째 : 2\n",
      "34번째 : 3\n",
      "35번째 : 13\n",
      "36번째 : 1\n",
      "37번째 : 1\n",
      "38번째 : 2\n",
      "39번째 : 15\n",
      "40번째 : 6\n",
      "41번째 : 2\n",
      "42번째 : 1\n",
      "43번째 : 1\n",
      "44번째 : 1\n",
      "45번째 : 7\n",
      "46번째 : 20\n",
      "47번째 : 1\n",
      "48번째 : 1\n",
      "49번째 : 7\n",
      "50번째 : 1\n",
      "51번째 : 13\n",
      "52번째 : 5\n",
      "53번째 : 2\n",
      "54번째 : 1\n",
      "55번째 : 2\n",
      "56번째 : 1\n",
      "57번째 : 1\n",
      "58번째 : 2\n",
      "59번째 : 3\n",
      "60번째 : 2\n",
      "61번째 : 1\n",
      "62번째 : 6\n",
      "63번째 : 1\n",
      "64번째 : 1\n",
      "65번째 : 1\n",
      "66번째 : 2\n",
      "67번째 : 1\n",
      "68번째 : 6\n",
      "69번째 : 6\n",
      "70번째 : 2\n",
      "71번째 : 5\n",
      "72번째 : 2\n",
      "73번째 : 9\n",
      "74번째 : 1\n",
      "75번째 : 1\n",
      "76번째 : 5\n",
      "77번째 : 4\n",
      "78번째 : 1\n",
      "79번째 : 3\n",
      "80번째 : 1\n",
      "81번째 : 4\n",
      "82번째 : 5\n",
      "83번째 : 11\n",
      "84번째 : 1\n",
      "85번째 : 1\n",
      "86번째 : 4\n",
      "87번째 : 5\n",
      "88번째 : 1\n",
      "89번째 : 1\n",
      "90번째 : 4\n",
      "91번째 : 1\n",
      "92번째 : 6\n",
      "93번째 : 3\n",
      "94번째 : 3\n",
      "95번째 : 26\n",
      "96번째 : 5\n",
      "97번째 : 9\n",
      "98번째 : 18\n",
      "99번째 : 7\n",
      "100번째 : 8\n",
      "101번째 : 1\n",
      "102번째 : 3\n",
      "103번째 : 6\n",
      "104번째 : 2\n",
      "105번째 : 8\n",
      "106번째 : 8\n",
      "107번째 : 3\n",
      "108번째 : 2\n",
      "109번째 : 1\n",
      "110번째 : 2\n",
      "111번째 : 16\n",
      "112번째 : 1\n",
      "113번째 : 1\n",
      "114번째 : 1\n",
      "115번째 : 2\n",
      "116번째 : 2\n",
      "117번째 : 6\n",
      "118번째 : 2\n",
      "119번째 : 7\n",
      "120번째 : 1\n",
      "121번째 : 2\n",
      "122번째 : 20\n",
      "123번째 : 3\n",
      "124번째 : 6\n",
      "125번째 : 1\n",
      "126번째 : 1\n",
      "127번째 : 6\n",
      "128번째 : 2\n",
      "129번째 : 25\n",
      "130번째 : 13\n",
      "131번째 : 10\n",
      "132번째 : 3\n",
      "133번째 : 6\n",
      "134번째 : 2\n",
      "135번째 : 2\n",
      "136번째 : 3\n",
      "137번째 : 2\n",
      "138번째 : 1\n",
      "139번째 : 2\n",
      "140번째 : 2\n",
      "141번째 : 3\n",
      "142번째 : 3\n",
      "143번째 : 3\n",
      "144번째 : 8\n",
      "145번째 : 8\n",
      "146번째 : 8\n",
      "147번째 : 8\n",
      "148번째 : 8\n",
      "149번째 : 8\n",
      "150번째 : 8\n",
      "151번째 : 8\n",
      "152번째 : 19\n",
      "153번째 : 13\n",
      "154번째 : 1\n",
      "155번째 : 3\n",
      "156번째 : 3\n",
      "157번째 : 3\n",
      "158번째 : 6\n",
      "159번째 : 14\n",
      "160번째 : 4\n",
      "161번째 : 4\n",
      "162번째 : 2\n",
      "163번째 : 6\n",
      "164번째 : 1\n",
      "165번째 : 6\n",
      "166번째 : 4\n",
      "167번째 : 7\n",
      "168번째 : 7\n",
      "169번째 : 2\n",
      "170번째 : 8\n",
      "171번째 : 1\n",
      "172번째 : 1\n",
      "173번째 : 4\n",
      "174번째 : 3\n",
      "175번째 : 2\n",
      "176번째 : 5\n",
      "177번째 : 2\n",
      "178번째 : 16\n",
      "179번째 : 10\n",
      "180번째 : 5\n",
      "181번째 : 9\n",
      "182번째 : 2\n",
      "183번째 : 9\n",
      "184번째 : 4\n",
      "185번째 : 5\n",
      "186번째 : 3\n",
      "187번째 : 3\n",
      "188번째 : 14\n",
      "189번째 : 6\n",
      "190번째 : 6\n",
      "191번째 : 5\n",
      "192번째 : 8\n",
      "193번째 : 6\n",
      "194번째 : 7\n",
      "195번째 : 7\n",
      "196번째 : 4\n",
      "----------------------------------\n",
      "Total 답변 개수: 947\n"
     ]
    }
   ],
   "source": [
    "driver = webdriver.Chrome('./chromedriver')\n",
    "driver.maximize_window()\n",
    "ans_url_list = []; total_ans = 0\n",
    "\n",
    "# 질문들의 url 수집\n",
    "for page in range(NUM_OF_PAGE):\n",
    "    kin_url = f'https://kin.naver.com/search/list.nhn?sort=date&query={quote(KEYWORD)}'\n",
    "    period_url = f'&period={FROM_DATE}%7C{TO_DATE}&section=kin'\n",
    "    page_url = f'&page={page+1}'\n",
    "    url = kin_url + period_url + page_url\n",
    "    driver.get(url)\n",
    "    time.sleep(1)\n",
    "    #print(f\"{page+1} 페이지\")\n",
    "\n",
    "    ul = driver.find_element_by_xpath('//*[@id=\"s_content\"]/div[3]/ul')\n",
    "    lis = ul.find_elements_by_tag_name('li')\n",
    "    for li in lis:\n",
    "        a_tag = li.find_element_by_tag_name('a')\n",
    "        ans_url_list.append(a_tag.get_attribute('href'))\n",
    "\n",
    "print(f'총 {len(ans_url_list)}개의 질문')\n",
    "\n",
    "# 각 질문의 답변 개수\n",
    "for i, ans_url in enumerate(ans_url_list):\n",
    "    driver.get(ans_url)\n",
    "    time.sleep(0.5)\n",
    "    ans_cnt = int(driver.find_element_by_class_name('_answerCount.num').text)\n",
    "    total_ans += ans_cnt\n",
    "    print(f'{i+1}번째 : {ans_cnt}')\n",
    "print(\"----------------------------------\")\n",
    "print(f'Total 답변 개수: {total_ans}')\n",
    "\n",
    "driver.close()"
   ]
  },
  {
   "cell_type": "code",
   "execution_count": 29,
   "metadata": {},
   "outputs": [
    {
     "output_type": "stream",
     "name": "stderr",
     "text": [
      "100%|██████████| 196/196 [11:47<00:00,  3.61s/it]\n"
     ]
    }
   ],
   "source": [
    "driver = webdriver.Chrome('./chromedriver')\n",
    "driver.maximize_window()\n",
    "answer_text_list = []\n",
    "\n",
    "for ans_url in tqdm(ans_url_list):\n",
    "    driver.get(ans_url)\n",
    "    time.sleep(1)\n",
    "    more = driver.find_element_by_xpath('//*[@id=\"nextPageButton\"]')\n",
    "    disp = more.get_attribute('style')      # 더보기 할 답변이 남아있지 않은 경우 \"style:None\" 이 존재한다\n",
    "    try:\n",
    "        # 더보기 할 답변이 남지 않을 때까지 while문을 돌린다\n",
    "        while disp:     \n",
    "            driver.find_element_by_id('nextPageButton').click()\n",
    "            time.sleep(1)\n",
    "    except:\n",
    "        time.sleep(1)\n",
    "    answers = driver.find_elements_by_class_name('answer-content__item._contentWrap._answer')\n",
    "    for ans in answers:\n",
    "        ps = ans.find_elements_by_tag_name('p')\n",
    "        for p in ps:\n",
    "            answer_text_list.append(p.text)\n",
    "driver.close()"
   ]
  },
  {
   "cell_type": "code",
   "execution_count": 30,
   "metadata": {},
   "outputs": [
    {
     "output_type": "execute_result",
     "data": {
      "text/plain": [
       "15368"
      ]
     },
     "metadata": {},
     "execution_count": 30
    }
   ],
   "source": [
    "len(answer_text_list)"
   ]
  },
  {
   "source": [
    "### 원본 저장(전처리 X)"
   ],
   "cell_type": "markdown",
   "metadata": {}
  },
  {
   "cell_type": "code",
   "execution_count": 31,
   "metadata": {},
   "outputs": [
    {
     "output_type": "execute_result",
     "data": {
      "text/plain": [
       "                                              answer\n",
       "0                                      wher**** 님 답변\n",
       "1                                                   \n",
       "2  현대위아 주가를 비롯해 전기차 관련주들이 가끔 한번씩 이슈를 타곤 하지만 현대위아 ...\n",
       "3                                                   \n",
       "4                                                   "
      ],
      "text/html": "<div>\n<style scoped>\n    .dataframe tbody tr th:only-of-type {\n        vertical-align: middle;\n    }\n\n    .dataframe tbody tr th {\n        vertical-align: top;\n    }\n\n    .dataframe thead th {\n        text-align: right;\n    }\n</style>\n<table border=\"1\" class=\"dataframe\">\n  <thead>\n    <tr style=\"text-align: right;\">\n      <th></th>\n      <th>answer</th>\n    </tr>\n  </thead>\n  <tbody>\n    <tr>\n      <th>0</th>\n      <td>wher**** 님 답변</td>\n    </tr>\n    <tr>\n      <th>1</th>\n      <td></td>\n    </tr>\n    <tr>\n      <th>2</th>\n      <td>현대위아 주가를 비롯해 전기차 관련주들이 가끔 한번씩 이슈를 타곤 하지만 현대위아 ...</td>\n    </tr>\n    <tr>\n      <th>3</th>\n      <td></td>\n    </tr>\n    <tr>\n      <th>4</th>\n      <td></td>\n    </tr>\n  </tbody>\n</table>\n</div>"
     },
     "metadata": {},
     "execution_count": 31
    }
   ],
   "source": [
    "df = pd.DataFrame({\n",
    "    'answer': answer_text_list\n",
    "})\n",
    "df.head()"
   ]
  },
  {
   "cell_type": "code",
   "execution_count": 3,
   "metadata": {},
   "outputs": [
    {
     "output_type": "stream",
     "name": "stdout",
     "text": [
      "210415 210420\n"
     ]
    }
   ],
   "source": [
    "start = start_date.strftime(\"%y%m%d\")\n",
    "end = datetime.today().strftime(\"%y%m%d\")\n",
    "print(start, end)"
   ]
  },
  {
   "cell_type": "code",
   "execution_count": 33,
   "metadata": {},
   "outputs": [],
   "source": [
    "df.to_csv(f'./data/{KEYWORD}_{start}_to_{end}_org.txt', sep='\\t', index=False)"
   ]
  },
  {
   "source": [
    "### 데이터 전처리"
   ],
   "cell_type": "markdown",
   "metadata": {}
  },
  {
   "cell_type": "code",
   "execution_count": 4,
   "metadata": {},
   "outputs": [
    {
     "output_type": "execute_result",
     "data": {
      "text/plain": [
       "                                              answer\n",
       "0                                      wher**** 님 답변\n",
       "1                                                NaN\n",
       "2  현대위아 주가를 비롯해 전기차 관련주들이 가끔 한번씩 이슈를 타곤 하지만 현대위아 ...\n",
       "3                                                NaN\n",
       "4                                                NaN"
      ],
      "text/html": "<div>\n<style scoped>\n    .dataframe tbody tr th:only-of-type {\n        vertical-align: middle;\n    }\n\n    .dataframe tbody tr th {\n        vertical-align: top;\n    }\n\n    .dataframe thead th {\n        text-align: right;\n    }\n</style>\n<table border=\"1\" class=\"dataframe\">\n  <thead>\n    <tr style=\"text-align: right;\">\n      <th></th>\n      <th>answer</th>\n    </tr>\n  </thead>\n  <tbody>\n    <tr>\n      <th>0</th>\n      <td>wher**** 님 답변</td>\n    </tr>\n    <tr>\n      <th>1</th>\n      <td>NaN</td>\n    </tr>\n    <tr>\n      <th>2</th>\n      <td>현대위아 주가를 비롯해 전기차 관련주들이 가끔 한번씩 이슈를 타곤 하지만 현대위아 ...</td>\n    </tr>\n    <tr>\n      <th>3</th>\n      <td>NaN</td>\n    </tr>\n    <tr>\n      <th>4</th>\n      <td>NaN</td>\n    </tr>\n  </tbody>\n</table>\n</div>"
     },
     "metadata": {},
     "execution_count": 4
    }
   ],
   "source": [
    "df_test = pd.read_table(f'./data/{KEYWORD}_{start}_to_{end}_org.txt')\n",
    "df_test.head()"
   ]
  },
  {
   "cell_type": "code",
   "execution_count": 5,
   "metadata": {},
   "outputs": [
    {
     "output_type": "execute_result",
     "data": {
      "text/plain": [
       "(14752, 1)"
      ]
     },
     "metadata": {},
     "execution_count": 5
    }
   ],
   "source": [
    "df_test.shape"
   ]
  },
  {
   "cell_type": "code",
   "execution_count": 6,
   "metadata": {},
   "outputs": [
    {
     "output_type": "stream",
     "name": "stderr",
     "text": [
      "<ipython-input-6-e7bed6f86f98>:1: FutureWarning: The default value of regex will change from True to False in a future version.\n  df_test['answer'] = df_test['answer'].str.replace(\"[^a-zA-Zㄱ-ㅎㅏ-ㅣ가-힣 ]\",\"\")\n"
     ]
    },
    {
     "output_type": "execute_result",
     "data": {
      "text/plain": [
       "                                              answer\n",
       "0                                          wher 님 답변\n",
       "1                                                NaN\n",
       "2  현대위아 주가를 비롯해 전기차 관련주들이 가끔 한번씩 이슈를 타곤 하지만 현대위아 ...\n",
       "3                                                NaN\n",
       "4                                                NaN"
      ],
      "text/html": "<div>\n<style scoped>\n    .dataframe tbody tr th:only-of-type {\n        vertical-align: middle;\n    }\n\n    .dataframe tbody tr th {\n        vertical-align: top;\n    }\n\n    .dataframe thead th {\n        text-align: right;\n    }\n</style>\n<table border=\"1\" class=\"dataframe\">\n  <thead>\n    <tr style=\"text-align: right;\">\n      <th></th>\n      <th>answer</th>\n    </tr>\n  </thead>\n  <tbody>\n    <tr>\n      <th>0</th>\n      <td>wher 님 답변</td>\n    </tr>\n    <tr>\n      <th>1</th>\n      <td>NaN</td>\n    </tr>\n    <tr>\n      <th>2</th>\n      <td>현대위아 주가를 비롯해 전기차 관련주들이 가끔 한번씩 이슈를 타곤 하지만 현대위아 ...</td>\n    </tr>\n    <tr>\n      <th>3</th>\n      <td>NaN</td>\n    </tr>\n    <tr>\n      <th>4</th>\n      <td>NaN</td>\n    </tr>\n  </tbody>\n</table>\n</div>"
     },
     "metadata": {},
     "execution_count": 6
    }
   ],
   "source": [
    "df_test['answer'] = df_test['answer'].str.replace(\"[^a-zA-Zㄱ-ㅎㅏ-ㅣ가-힣 ]\",\"\")\n",
    "df_test.head()"
   ]
  },
  {
   "cell_type": "code",
   "execution_count": 7,
   "metadata": {},
   "outputs": [
    {
     "output_type": "stream",
     "name": "stdout",
     "text": [
      "569 Int64Index([   94,   353,   748,  1015,  1096,  1105,  1142,  1166,  1170,\n             1192,\n            ...\n            14459, 14586, 14591, 14632, 14643, 14652, 14667, 14669, 14698,\n            14751],\n           dtype='int64', length=569)\n"
     ]
    }
   ],
   "source": [
    "# 공백 여부 확인\n",
    "drop_idx = df_test[df_test.answer == \"\"].index\n",
    "print(len(drop_idx), drop_idx)"
   ]
  },
  {
   "cell_type": "code",
   "execution_count": 9,
   "metadata": {},
   "outputs": [
    {
     "output_type": "execute_result",
     "data": {
      "text/plain": [
       "(14183, 1)"
      ]
     },
     "metadata": {},
     "execution_count": 9
    }
   ],
   "source": [
    "# 공백 값을 가지고 있는 해당 인덱스 행 제거\n",
    "df_test.drop(drop_idx, inplace=True)\n",
    "df_test.shape"
   ]
  },
  {
   "cell_type": "code",
   "execution_count": 10,
   "metadata": {},
   "outputs": [
    {
     "output_type": "execute_result",
     "data": {
      "text/plain": [
       "answer    3999\n",
       "dtype: int64"
      ]
     },
     "metadata": {},
     "execution_count": 10
    }
   ],
   "source": [
    "# null값 여부 확인\n",
    "df_test.isnull().sum()"
   ]
  },
  {
   "cell_type": "code",
   "execution_count": 11,
   "metadata": {},
   "outputs": [
    {
     "output_type": "execute_result",
     "data": {
      "text/plain": [
       "(10184, 1)"
      ]
     },
     "metadata": {},
     "execution_count": 11
    }
   ],
   "source": [
    "# null값을 가지고 있는 행 제거\n",
    "df_test.dropna(axis=0, inplace=True)\n",
    "df_test.shape"
   ]
  },
  {
   "cell_type": "code",
   "execution_count": 12,
   "metadata": {},
   "outputs": [
    {
     "output_type": "execute_result",
     "data": {
      "text/plain": [
       "                                              answer\n",
       "0                                          wher 님 답변\n",
       "2  현대위아 주가를 비롯해 전기차 관련주들이 가끔 한번씩 이슈를 타곤 하지만 현대위아 ...\n",
       "5  위 답변은 답변작성자가 경험과 지식을 바탕으로 작성한 내용입니다 포인트로 감사할 때...\n",
       "6                                               시간 전\n",
       "7                                             비공개 답변"
      ],
      "text/html": "<div>\n<style scoped>\n    .dataframe tbody tr th:only-of-type {\n        vertical-align: middle;\n    }\n\n    .dataframe tbody tr th {\n        vertical-align: top;\n    }\n\n    .dataframe thead th {\n        text-align: right;\n    }\n</style>\n<table border=\"1\" class=\"dataframe\">\n  <thead>\n    <tr style=\"text-align: right;\">\n      <th></th>\n      <th>answer</th>\n    </tr>\n  </thead>\n  <tbody>\n    <tr>\n      <th>0</th>\n      <td>wher 님 답변</td>\n    </tr>\n    <tr>\n      <th>2</th>\n      <td>현대위아 주가를 비롯해 전기차 관련주들이 가끔 한번씩 이슈를 타곤 하지만 현대위아 ...</td>\n    </tr>\n    <tr>\n      <th>5</th>\n      <td>위 답변은 답변작성자가 경험과 지식을 바탕으로 작성한 내용입니다 포인트로 감사할 때...</td>\n    </tr>\n    <tr>\n      <th>6</th>\n      <td>시간 전</td>\n    </tr>\n    <tr>\n      <th>7</th>\n      <td>비공개 답변</td>\n    </tr>\n  </tbody>\n</table>\n</div>"
     },
     "metadata": {},
     "execution_count": 12
    }
   ],
   "source": [
    "df_test.head()"
   ]
  },
  {
   "cell_type": "code",
   "execution_count": 13,
   "metadata": {},
   "outputs": [
    {
     "output_type": "stream",
     "name": "stdout",
     "text": [
      "전처리 후 샘플의 개수: 10184\n"
     ]
    }
   ],
   "source": [
    "print(f'전처리 후 샘플의 개수: {len(df_test)}')"
   ]
  },
  {
   "cell_type": "code",
   "execution_count": 14,
   "metadata": {},
   "outputs": [],
   "source": [
    "df_test.to_csv(f'./result/{KEYWORD}_{start}_to_{end}_res.txt', sep='\\t', index=False)"
   ]
  },
  {
   "cell_type": "code",
   "execution_count": null,
   "metadata": {},
   "outputs": [],
   "source": []
  }
 ]
}