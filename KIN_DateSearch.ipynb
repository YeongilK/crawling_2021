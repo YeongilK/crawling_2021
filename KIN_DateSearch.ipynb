{
 "metadata": {
  "language_info": {
   "codemirror_mode": {
    "name": "ipython",
    "version": 3
   },
   "file_extension": ".py",
   "mimetype": "text/x-python",
   "name": "python",
   "nbconvert_exporter": "python",
   "pygments_lexer": "ipython3",
   "version": "3.8.6-final"
  },
  "orig_nbformat": 2,
  "kernelspec": {
   "name": "python386jvsc74a57bd025a6efafc31951e90de1c16a70e6d051f17722d346d4891fc1d97bd3c7f72235",
   "display_name": "Python 3.8.6 64-bit"
  }
 },
 "nbformat": 4,
 "nbformat_minor": 2,
 "cells": [
  {
   "source": [
    "# 네이버 지식인 크롤링"
   ],
   "cell_type": "markdown",
   "metadata": {}
  },
  {
   "cell_type": "code",
   "execution_count": 121,
   "metadata": {},
   "outputs": [],
   "source": [
    "import time\n",
    "import pandas as pd \n",
    "from bs4 import BeautifulSoup\n",
    "from selenium import webdriver\n",
    "from selenium.webdriver.remote.webelement import WebElement\n",
    "from selenium.webdriver.common.keys import Keys\n",
    "from selenium.webdriver import ActionChains\n",
    "from urllib.parse import quote\n",
    "from tqdm import tqdm\n",
    "from datetime import datetime, timedelta"
   ]
  },
  {
   "source": [
    "## 날짜 입력\n",
    "- 며칠동안의 데이터를 수집할지 입력\n",
    "- ex) 입력값: 3  ->  3일전 ~ 오늘날짜 "
   ],
   "cell_type": "markdown",
   "metadata": {}
  },
  {
   "cell_type": "code",
   "execution_count": 122,
   "metadata": {},
   "outputs": [],
   "source": [
    "KEYWORD = '대선후보'\n",
    "N = 3\n",
    "start = datetime.today() - timedelta(N)\n",
    "FROM_DATE = start.strftime(\"%Y.%m.%d.\")\n",
    "TO_DATE = datetime.today().strftime(\"%Y.%m.%d.\")"
   ]
  },
  {
   "cell_type": "code",
   "execution_count": 124,
   "metadata": {},
   "outputs": [
    {
     "output_type": "stream",
     "name": "stdout",
     "text": [
      "2021.04.16. 2021.04.19.\n"
     ]
    }
   ],
   "source": [
    "print(FROM_DATE, TO_DATE)"
   ]
  },
  {
   "cell_type": "code",
   "execution_count": 125,
   "metadata": {},
   "outputs": [
    {
     "output_type": "stream",
     "name": "stdout",
     "text": [
      "전체 페이지 수:  3\n"
     ]
    }
   ],
   "source": [
    "driver = webdriver.Chrome('./chromedriver')\n",
    "driver.maximize_window()\n",
    "base_url = \"https://www.naver.com/\"\n",
    "driver.get(base_url)\n",
    "time.sleep(1)\n",
    "\n",
    "# 지식iN 으로 이동\n",
    "nav = driver.find_element_by_id('NM_FAVORITE')\n",
    "lis = nav.find_element_by_tag_name('ul').find_elements_by_tag_name('li')\n",
    "lis[3].click()\n",
    "\n",
    "# 키워드 검색 후 최신순 정렬\n",
    "search_area = driver.find_element_by_class_name('search_area')\n",
    "search_area.find_element_by_tag_name('input').send_keys(KEYWORD)    # 키워드 입력\n",
    "driver.find_element_by_class_name('search_btn').click()     # 검색\n",
    "driver.find_element_by_class_name('option_sort').find_elements_by_tag_name('li')[1].click()     # '최신순' 클릭\n",
    "time.sleep(1)\n",
    "\n",
    "# 기간 검색: FROM_DATE ~ TO_DATE\n",
    "driver.find_element_by_id('au_date_select').click()\n",
    "time.sleep(1)\n",
    "from_date = driver.find_element_by_id('sel_from_date')\n",
    "to_date = driver.find_element_by_id('sel_to_date')\n",
    "# 시작날짜, 완료날짜 입력\n",
    "actions = ActionChains(driver).double_click(from_date).send_keys(FROM_DATE).double_click(to_date).send_keys(TO_DATE)\n",
    "actions.perform()\n",
    "driver.find_element_by_xpath('/html/body/div[3]/div/ul/li[4]/input[3]').click()\n",
    "\n",
    "# 전체 페이지수 수집\n",
    "while True:\n",
    "    pagination = driver.find_element_by_class_name('s_paging')\n",
    "    pages = pagination.find_elements_by_tag_name('a')\n",
    "    tmp = []\n",
    "    for page in pages:\n",
    "        tmp.append(page.text)\n",
    "    if '다음페이지' in tmp:\n",
    "        pages[-1].click()\n",
    "        time.sleep(2)\n",
    "    else:\n",
    "        NUM_OF_PAGE = int(pagination.text.split()[-1])\n",
    "        break\n",
    "print(\"전체 페이지 수: \", NUM_OF_PAGE)\n",
    "driver.close()"
   ]
  },
  {
   "cell_type": "code",
   "execution_count": 126,
   "metadata": {},
   "outputs": [
    {
     "output_type": "stream",
     "name": "stdout",
     "text": [
      "총 23개의 질문\n",
      "1번째 : 1\n",
      "2번째 : 1\n",
      "3번째 : 3\n",
      "4번째 : 3\n",
      "5번째 : 3\n",
      "6번째 : 5\n",
      "7번째 : 3\n",
      "8번째 : 1\n",
      "9번째 : 2\n",
      "10번째 : 4\n",
      "11번째 : 1\n",
      "12번째 : 6\n",
      "13번째 : 6\n",
      "14번째 : 1\n",
      "15번째 : 1\n",
      "16번째 : 3\n",
      "17번째 : 1\n",
      "18번째 : 1\n",
      "19번째 : 5\n",
      "20번째 : 2\n",
      "21번째 : 4\n",
      "22번째 : 2\n",
      "23번째 : 12\n",
      "----------------------------------\n",
      "Total 답변 개수: 71\n"
     ]
    }
   ],
   "source": [
    "driver = webdriver.Chrome('./chromedriver')\n",
    "driver.maximize_window()\n",
    "ans_url_list = []; total_ans = 0\n",
    "\n",
    "# 질문들의 url 수집\n",
    "for page in range(NUM_OF_PAGE):\n",
    "    kin_url = f'https://kin.naver.com/search/list.nhn?sort=date&query={quote(KEYWORD)}'\n",
    "    period_url = f'&period={FROM_DATE}%7C{TO_DATE}&section=kin'\n",
    "    page_url = f'&page={page+1}'\n",
    "    url = kin_url + period_url + page_url\n",
    "    driver.get(url)\n",
    "    time.sleep(1)\n",
    "    #print(f\"{page+1} 페이지\")\n",
    "\n",
    "    ul = driver.find_element_by_xpath('//*[@id=\"s_content\"]/div[3]/ul')\n",
    "    lis = ul.find_elements_by_tag_name('li')\n",
    "    for li in lis:\n",
    "        a_tag = li.find_element_by_tag_name('a')\n",
    "        ans_url_list.append(a_tag.get_attribute('href'))\n",
    "\n",
    "print(f'총 {len(ans_url_list)}개의 질문')\n",
    "\n",
    "# 각 질문의 답변 개수\n",
    "for i, ans_url in enumerate(ans_url_list):\n",
    "    driver.get(ans_url)\n",
    "    time.sleep(0.5)\n",
    "    ans_cnt = int(driver.find_element_by_class_name('_answerCount.num').text)\n",
    "    total_ans += ans_cnt\n",
    "    print(f'{i+1}번째 : {ans_cnt}')\n",
    "print(\"----------------------------------\")\n",
    "print(f'Total 답변 개수: {total_ans}')\n",
    "\n",
    "driver.close()"
   ]
  },
  {
   "cell_type": "code",
   "execution_count": 127,
   "metadata": {},
   "outputs": [
    {
     "output_type": "stream",
     "name": "stderr",
     "text": [
      "100%|██████████| 23/23 [01:17<00:00,  3.35s/it]\n"
     ]
    }
   ],
   "source": [
    "driver = webdriver.Chrome('./chromedriver')\n",
    "driver.maximize_window()\n",
    "answer_text_list = []\n",
    "\n",
    "for ans_url in tqdm(ans_url_list):\n",
    "    driver.get(ans_url)\n",
    "    time.sleep(1)\n",
    "    more = driver.find_element_by_xpath('//*[@id=\"nextPageButton\"]')\n",
    "    disp = more.get_attribute('style')      # 더보기 할 답변이 남아있지 않은 경우 \"style:None\" 이 존재한다\n",
    "    try:\n",
    "        # 더보기 할 답변이 남지 않을 때까지 while문을 돌린다\n",
    "        while disp:     \n",
    "            driver.find_element_by_id('nextPageButton').click()\n",
    "            time.sleep(1)\n",
    "    except:\n",
    "        time.sleep(1)\n",
    "    answers = driver.find_elements_by_class_name('answer-content__item._contentWrap._answer')\n",
    "    for ans in answers:\n",
    "        ps = ans.find_elements_by_tag_name('p')\n",
    "        for p in ps:\n",
    "            answer_text_list.append(p.text)\n",
    "driver.close()"
   ]
  },
  {
   "cell_type": "code",
   "execution_count": 128,
   "metadata": {},
   "outputs": [
    {
     "output_type": "execute_result",
     "data": {
      "text/plain": [
       "1544"
      ]
     },
     "metadata": {},
     "execution_count": 128
    }
   ],
   "source": [
    "len(answer_text_list)"
   ]
  },
  {
   "source": [
    "### 원본 저장(전처리 X)"
   ],
   "cell_type": "markdown",
   "metadata": {}
  },
  {
   "cell_type": "code",
   "execution_count": 129,
   "metadata": {},
   "outputs": [
    {
     "output_type": "execute_result",
     "data": {
      "text/plain": [
       "                                     answer\n",
       "0                                  가린샤 님 답변\n",
       "1  먼저 이성윤 중앙지검장이 수사저지가 적법했는지를 살펴보아야할 것 같아요.\n",
       "2                                          \n",
       "3   그리고 난후에 검찰 수사가 적법했는지 보아야지 앞뒤가 맞는 것 같아요.\n",
       "4                                          "
      ],
      "text/html": "<div>\n<style scoped>\n    .dataframe tbody tr th:only-of-type {\n        vertical-align: middle;\n    }\n\n    .dataframe tbody tr th {\n        vertical-align: top;\n    }\n\n    .dataframe thead th {\n        text-align: right;\n    }\n</style>\n<table border=\"1\" class=\"dataframe\">\n  <thead>\n    <tr style=\"text-align: right;\">\n      <th></th>\n      <th>answer</th>\n    </tr>\n  </thead>\n  <tbody>\n    <tr>\n      <th>0</th>\n      <td>가린샤 님 답변</td>\n    </tr>\n    <tr>\n      <th>1</th>\n      <td>먼저 이성윤 중앙지검장이 수사저지가 적법했는지를 살펴보아야할 것 같아요.</td>\n    </tr>\n    <tr>\n      <th>2</th>\n      <td></td>\n    </tr>\n    <tr>\n      <th>3</th>\n      <td>그리고 난후에 검찰 수사가 적법했는지 보아야지 앞뒤가 맞는 것 같아요.</td>\n    </tr>\n    <tr>\n      <th>4</th>\n      <td></td>\n    </tr>\n  </tbody>\n</table>\n</div>"
     },
     "metadata": {},
     "execution_count": 129
    }
   ],
   "source": [
    "df = pd.DataFrame({\n",
    "    'answer': answer_text_list\n",
    "})\n",
    "df.head()"
   ]
  },
  {
   "cell_type": "code",
   "execution_count": 130,
   "metadata": {},
   "outputs": [],
   "source": [
    "df.to_csv('./data/answer_origin_test.txt', sep='\\t', index=False)"
   ]
  },
  {
   "source": [
    "### 데이터 전처리"
   ],
   "cell_type": "markdown",
   "metadata": {}
  },
  {
   "cell_type": "code",
   "execution_count": 131,
   "metadata": {},
   "outputs": [
    {
     "output_type": "execute_result",
     "data": {
      "text/plain": [
       "                                     answer\n",
       "0                                  가린샤 님 답변\n",
       "1  먼저 이성윤 중앙지검장이 수사저지가 적법했는지를 살펴보아야할 것 같아요.\n",
       "2                                       NaN\n",
       "3   그리고 난후에 검찰 수사가 적법했는지 보아야지 앞뒤가 맞는 것 같아요.\n",
       "4                                       NaN"
      ],
      "text/html": "<div>\n<style scoped>\n    .dataframe tbody tr th:only-of-type {\n        vertical-align: middle;\n    }\n\n    .dataframe tbody tr th {\n        vertical-align: top;\n    }\n\n    .dataframe thead th {\n        text-align: right;\n    }\n</style>\n<table border=\"1\" class=\"dataframe\">\n  <thead>\n    <tr style=\"text-align: right;\">\n      <th></th>\n      <th>answer</th>\n    </tr>\n  </thead>\n  <tbody>\n    <tr>\n      <th>0</th>\n      <td>가린샤 님 답변</td>\n    </tr>\n    <tr>\n      <th>1</th>\n      <td>먼저 이성윤 중앙지검장이 수사저지가 적법했는지를 살펴보아야할 것 같아요.</td>\n    </tr>\n    <tr>\n      <th>2</th>\n      <td>NaN</td>\n    </tr>\n    <tr>\n      <th>3</th>\n      <td>그리고 난후에 검찰 수사가 적법했는지 보아야지 앞뒤가 맞는 것 같아요.</td>\n    </tr>\n    <tr>\n      <th>4</th>\n      <td>NaN</td>\n    </tr>\n  </tbody>\n</table>\n</div>"
     },
     "metadata": {},
     "execution_count": 131
    }
   ],
   "source": [
    "df_test = pd.read_table('./data/answer_origin_test.txt')\n",
    "df_test.head()"
   ]
  },
  {
   "cell_type": "code",
   "execution_count": 132,
   "metadata": {},
   "outputs": [
    {
     "output_type": "execute_result",
     "data": {
      "text/plain": [
       "(1542, 1)"
      ]
     },
     "metadata": {},
     "execution_count": 132
    }
   ],
   "source": [
    "df_test.shape"
   ]
  },
  {
   "cell_type": "code",
   "execution_count": 133,
   "metadata": {},
   "outputs": [
    {
     "output_type": "stream",
     "name": "stdout",
     "text": [
      "0 Int64Index([], dtype='int64')\n"
     ]
    }
   ],
   "source": [
    "# 공백 여부 확인\n",
    "drop_idx = df_test[df_test.answer == \"\"].index\n",
    "print(len(drop_idx), drop_idx)"
   ]
  },
  {
   "cell_type": "code",
   "execution_count": 134,
   "metadata": {},
   "outputs": [
    {
     "output_type": "execute_result",
     "data": {
      "text/plain": [
       "answer    429\n",
       "dtype: int64"
      ]
     },
     "metadata": {},
     "execution_count": 134
    }
   ],
   "source": [
    "# null값 여부 확인\n",
    "df_test.isnull().sum()"
   ]
  },
  {
   "cell_type": "code",
   "execution_count": 135,
   "metadata": {},
   "outputs": [
    {
     "output_type": "execute_result",
     "data": {
      "text/plain": [
       "(1113, 1)"
      ]
     },
     "metadata": {},
     "execution_count": 135
    }
   ],
   "source": [
    "# null값을 가지고 있는 행 제거\n",
    "df_test.dropna(axis=0, inplace=True)\n",
    "df_test.shape"
   ]
  },
  {
   "cell_type": "code",
   "execution_count": 136,
   "metadata": {},
   "outputs": [
    {
     "output_type": "execute_result",
     "data": {
      "text/plain": [
       "                                     answer\n",
       "0                                  가린샤 님 답변\n",
       "1  먼저 이성윤 중앙지검장이 수사저지가 적법했는지를 살펴보아야할 것 같아요.\n",
       "3   그리고 난후에 검찰 수사가 적법했는지 보아야지 앞뒤가 맞는 것 같아요.\n",
       "5  계속 수사 거부하다가 이제야 와서 수사를 받고 또 그 내용을 다 공개하면\n",
       "7                이것은 검찰로써는 상당히 부끄러운 이야기인거죠."
      ],
      "text/html": "<div>\n<style scoped>\n    .dataframe tbody tr th:only-of-type {\n        vertical-align: middle;\n    }\n\n    .dataframe tbody tr th {\n        vertical-align: top;\n    }\n\n    .dataframe thead th {\n        text-align: right;\n    }\n</style>\n<table border=\"1\" class=\"dataframe\">\n  <thead>\n    <tr style=\"text-align: right;\">\n      <th></th>\n      <th>answer</th>\n    </tr>\n  </thead>\n  <tbody>\n    <tr>\n      <th>0</th>\n      <td>가린샤 님 답변</td>\n    </tr>\n    <tr>\n      <th>1</th>\n      <td>먼저 이성윤 중앙지검장이 수사저지가 적법했는지를 살펴보아야할 것 같아요.</td>\n    </tr>\n    <tr>\n      <th>3</th>\n      <td>그리고 난후에 검찰 수사가 적법했는지 보아야지 앞뒤가 맞는 것 같아요.</td>\n    </tr>\n    <tr>\n      <th>5</th>\n      <td>계속 수사 거부하다가 이제야 와서 수사를 받고 또 그 내용을 다 공개하면</td>\n    </tr>\n    <tr>\n      <th>7</th>\n      <td>이것은 검찰로써는 상당히 부끄러운 이야기인거죠.</td>\n    </tr>\n  </tbody>\n</table>\n</div>"
     },
     "metadata": {},
     "execution_count": 136
    }
   ],
   "source": [
    "df_test.head()"
   ]
  },
  {
   "cell_type": "code",
   "execution_count": 137,
   "metadata": {},
   "outputs": [
    {
     "output_type": "stream",
     "name": "stdout",
     "text": [
      "전처리 후 샘플의 개수: 1113\n"
     ]
    }
   ],
   "source": [
    "print(f'전처리 후 샘플의 개수: {len(df_test)}')"
   ]
  },
  {
   "cell_type": "code",
   "execution_count": 138,
   "metadata": {},
   "outputs": [],
   "source": [
    "df_test.to_csv('./data/answer_result_test.txt', sep='\\t', index=False)"
   ]
  },
  {
   "cell_type": "code",
   "execution_count": null,
   "metadata": {},
   "outputs": [],
   "source": []
  }
 ]
}