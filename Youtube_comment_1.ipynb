{
 "metadata": {
  "language_info": {
   "codemirror_mode": {
    "name": "ipython",
    "version": 3
   },
   "file_extension": ".py",
   "mimetype": "text/x-python",
   "name": "python",
   "nbconvert_exporter": "python",
   "pygments_lexer": "ipython3",
   "version": "3.8.6-final"
  },
  "orig_nbformat": 2,
  "kernelspec": {
   "name": "python386jvsc74a57bd025a6efafc31951e90de1c16a70e6d051f17722d346d4891fc1d97bd3c7f72235",
   "display_name": "Python 3.8.6 64-bit"
  },
  "metadata": {
   "interpreter": {
    "hash": "25a6efafc31951e90de1c16a70e6d051f17722d346d4891fc1d97bd3c7f72235"
   }
  }
 },
 "nbformat": 4,
 "nbformat_minor": 2,
 "cells": [
  {
   "source": [
    "# 유튜브 댓글 크롤링 (1)\n",
    "### keyword: 보안쟁이"
   ],
   "cell_type": "markdown",
   "metadata": {}
  },
  {
   "cell_type": "code",
   "execution_count": 9,
   "metadata": {},
   "outputs": [],
   "source": [
    "import time\n",
    "from bs4 import BeautifulSoup\n",
    "from selenium import webdriver\n",
    "from selenium.webdriver.common.keys import Keys\n",
    "from urllib.parse import quote\n",
    "from tqdm import tqdm"
   ]
  },
  {
   "cell_type": "code",
   "execution_count": 10,
   "metadata": {},
   "outputs": [],
   "source": [
    "KEYWORD = \"보안쟁이\""
   ]
  },
  {
   "cell_type": "code",
   "execution_count": 11,
   "metadata": {},
   "outputs": [],
   "source": [
    "v_url_list = []\n",
    "driver = webdriver.Chrome('./chromedriver')\n",
    "driver.maximize_window()\n",
    "url = 'https://www.youtube.com/results?search_query=' + quote(KEYWORD)\n",
    "driver.get(url)\n",
    "time.sleep(2)\n",
    "\n",
    "# channel_url, channel_id, channel_name 가져오기\n",
    "main_link = driver.find_element_by_id(\"main-link\")\n",
    "channel_url = main_link.get_attribute(\"href\")\n",
    "c_idx = channel_url.rfind(\"/\") + 1\n",
    "channel_id = channel_url[c_idx:]\n",
    "channel_name = main_link.find_element_by_id(\"text-container\").text\n",
    "\n",
    "# 채널 내 '동영상' 으로 이동\n",
    "main_link.click()\n",
    "time.sleep(1)\n",
    "driver.find_element_by_xpath('//*[@id=\"tabsContent\"]/tp-yt-paper-tab[2]/div').click()\n",
    "time.sleep(1)\n",
    "\n",
    "# 스크롤 끝까지 내리기\n",
    "last_page_height = driver.execute_script(\"return document.documentElement.scrollHeight\")\n",
    "driver.execute_script(\"window.scrollTo(0, 350);\")\n",
    "while True: \n",
    "    driver.execute_script(\"window.scrollTo(0, document.documentElement.scrollHeight);\") \n",
    "    time.sleep(3) \n",
    "    new_page_height = driver.execute_script(\"return document.documentElement.scrollHeight\") \n",
    "    if new_page_height == last_page_height: \n",
    "        break \n",
    "    last_page_height = new_page_height\n",
    "\n",
    "lis = driver.find_elements_by_id('thumbnail')\n",
    "\n",
    "for li in lis:\n",
    "    video_url = li.get_attribute(\"href\")\n",
    "    v_url_list.append(video_url)\n",
    "\n",
    "driver.close()"
   ]
  },
  {
   "cell_type": "code",
   "execution_count": 12,
   "metadata": {},
   "outputs": [
    {
     "output_type": "stream",
     "name": "stdout",
     "text": [
      "146 \n ['https://www.youtube.com/watch?v=4ghRdR2UoLs', 'https://www.youtube.com/watch?v=H9fJ1ycjzWk', 'https://www.youtube.com/watch?v=P75YHMkdMN8', 'https://www.youtube.com/watch?v=FjBikdRCd3M', 'https://www.youtube.com/watch?v=P0PYGk93yKk', 'https://www.youtube.com/watch?v=XvIQgQeN0_I', 'https://www.youtube.com/watch?v=INLNzjk8akE', 'https://www.youtube.com/watch?v=FKjzVEquUWY', 'https://www.youtube.com/watch?v=zaaXR61r-ng', 'https://www.youtube.com/watch?v=Y4nXATT-1ys', 'https://www.youtube.com/watch?v=_lfglwY__20', 'https://www.youtube.com/watch?v=RRDK9F6wiK4', 'https://www.youtube.com/watch?v=VYrZdO0Qxls', 'https://www.youtube.com/watch?v=QxVpXSjNNO4', 'https://www.youtube.com/watch?v=7FrEebGYs9U', 'https://www.youtube.com/watch?v=Z82p2qITQDE', 'https://www.youtube.com/watch?v=G5iZIX_jckk', 'https://www.youtube.com/watch?v=QU6q0cljdYs', 'https://www.youtube.com/watch?v=-FXrIDQKoEg', 'https://www.youtube.com/watch?v=7wXfkWJndKI', 'https://www.youtube.com/watch?v=ebOGw7xKMko', 'https://www.youtube.com/watch?v=XodX9XdEHGU', 'https://www.youtube.com/watch?v=TKXWj-jzHZ0', 'https://www.youtube.com/watch?v=YcYTiHu3mto', 'https://www.youtube.com/watch?v=10KFP5h2jQo', 'https://www.youtube.com/watch?v=_HblBAedUaE', 'https://www.youtube.com/watch?v=4ghRdR2UoLs', 'https://www.youtube.com/watch?v=H9fJ1ycjzWk', 'https://www.youtube.com/watch?v=mX9LtvbPUaQ', 'https://www.youtube.com/watch?v=_lfglwY__20', 'https://www.youtube.com/watch?v=p16968UHfjE', 'https://www.youtube.com/watch?v=cGt8xkx9oBU', 'https://www.youtube.com/watch?v=7FrEebGYs9U', 'https://www.youtube.com/watch?v=CztYlScd9VQ', 'https://www.youtube.com/watch?v=dMV6mG9fN74', 'https://www.youtube.com/watch?v=LqpOUrcPKKk', 'https://www.youtube.com/watch?v=MD7ttP13zWI', 'https://www.youtube.com/watch?v=nvLdZcMeqIg', 'https://www.youtube.com/watch?v=0BfKkPIT7xk', 'https://www.youtube.com/watch?v=P75YHMkdMN8', 'https://www.youtube.com/watch?v=G5iZIX_jckk', 'https://www.youtube.com/watch?v=nJchr-ZnvwQ', 'https://www.youtube.com/watch?v=TKXWj-jzHZ0', 'https://www.youtube.com/watch?v=SCKzqVFSNNo', 'https://www.youtube.com/watch?v=eNelo7CEBGI', 'https://www.youtube.com/watch?v=M4kZ9Ed43jQ', 'https://www.youtube.com/watch?v=XvIQgQeN0_I', 'https://www.youtube.com/watch?v=RRDK9F6wiK4', 'https://www.youtube.com/watch?v=P0PYGk93yKk', 'https://www.youtube.com/watch?v=iD3oZ5mLhqE', 'https://www.youtube.com/watch?v=6yZaKcFamuk', 'https://www.youtube.com/watch?v=P90XHzVGfzM', 'https://www.youtube.com/watch?v=XodX9XdEHGU', 'https://www.youtube.com/watch?v=ntBgXKkPoPY', 'https://www.youtube.com/watch?v=zr5Ygb1AkZA', 'https://www.youtube.com/watch?v=AaCiZOjeFoA', 'https://www.youtube.com/watch?v=pL40qF9CpYI', 'https://www.youtube.com/watch?v=luUZIc7JHJo', 'https://www.youtube.com/watch?v=VYrZdO0Qxls', 'https://www.youtube.com/watch?v=937tZiD6aXM', 'https://www.youtube.com/watch?v=m0mwqrzm_Eo', 'https://www.youtube.com/watch?v=oq3voj_6xFM', 'https://www.youtube.com/watch?v=oDEcLewPPc4', 'https://www.youtube.com/watch?v=-FXrIDQKoEg', 'https://www.youtube.com/watch?v=zoiv47n4O2E', 'https://www.youtube.com/watch?v=VBBmUWzElIY', 'https://www.youtube.com/watch?v=bKrWnlMUBFQ', 'https://www.youtube.com/watch?v=qfAbCjx3daE', 'https://www.youtube.com/watch?v=jN7d2fvNGLs', 'https://www.youtube.com/watch?v=cDByUYlyxQU', 'https://www.youtube.com/watch?v=EgSuVDr1AWk', 'https://www.youtube.com/watch?v=INLNzjk8akE', 'https://www.youtube.com/watch?v=YIm640nW7dw', 'https://www.youtube.com/watch?v=S8irHXmxjy8', 'https://www.youtube.com/watch?v=y05rMvzHwD4', 'https://www.youtube.com/watch?v=mwSxmZLUUf0', 'https://www.youtube.com/watch?v=xZz9H6kpLrM', 'https://www.youtube.com/watch?v=FE_8S2i8uho', 'https://www.youtube.com/watch?v=VzDL7t5wb7I', 'https://www.youtube.com/watch?v=PorrXU59p7c', 'https://www.youtube.com/watch?v=b3G_fdofJOY', 'https://www.youtube.com/watch?v=9OgjlwUBHnc', 'https://www.youtube.com/watch?v=Qck8JWaAJHY', 'https://www.youtube.com/watch?v=potdxDUsniY', 'https://www.youtube.com/watch?v=ZkB1LtZMXIw', 'https://www.youtube.com/watch?v=zfGDdKtpHJY', 'https://www.youtube.com/watch?v=g-ocT8iODS4', 'https://www.youtube.com/watch?v=grfcSV-rZfE', 'https://www.youtube.com/watch?v=QU6q0cljdYs', 'https://www.youtube.com/watch?v=3L9nkgKoSSU', 'https://www.youtube.com/watch?v=7tTn1VN3y4s', 'https://www.youtube.com/watch?v=HmJZht0gq5E', 'https://www.youtube.com/watch?v=YcYTiHu3mto', 'https://www.youtube.com/watch?v=oYzbvaBpw2A', 'https://www.youtube.com/watch?v=6MbD5E4s_vM', 'https://www.youtube.com/watch?v=L7S1T62RKyw', 'https://www.youtube.com/watch?v=ckiSJXg85T4', 'https://www.youtube.com/watch?v=sOqBVQds2Hc', 'https://www.youtube.com/watch?v=W9OpQuRcvM8', 'https://www.youtube.com/watch?v=4g7BKhwI20o', 'https://www.youtube.com/watch?v=ueeBbIdq6Cs', 'https://www.youtube.com/watch?v=BMplEhTxEho', 'https://www.youtube.com/watch?v=yu8JTEw8qX0', 'https://www.youtube.com/watch?v=QxVpXSjNNO4', 'https://www.youtube.com/watch?v=7wXfkWJndKI', 'https://www.youtube.com/watch?v=Z82p2qITQDE', 'https://www.youtube.com/watch?v=bck11C9p6vo', 'https://www.youtube.com/watch?v=891E6akqde0', 'https://www.youtube.com/watch?v=34nOYzvCqy4', 'https://www.youtube.com/watch?v=eqR1IMtDNLs', 'https://www.youtube.com/watch?v=rMEnCoPO8Qc', 'https://www.youtube.com/watch?v=4qRf1b90JWw', 'https://www.youtube.com/watch?v=FjBikdRCd3M', 'https://www.youtube.com/watch?v=vgMrQgRC0Fc', 'https://www.youtube.com/watch?v=a8kQztzFZEw', 'https://www.youtube.com/watch?v=nPa8FsEWwGI', 'https://www.youtube.com/watch?v=Zd3aUEW_Ifg', 'https://www.youtube.com/watch?v=vP-5P6AFoN0', 'https://www.youtube.com/watch?v=1sVoKkAedwk', 'https://www.youtube.com/watch?v=6ss0NIJJjcU', 'https://www.youtube.com/watch?v=BZMM0lG6_yo', 'https://www.youtube.com/watch?v=Trqr1IX4PFY', 'https://www.youtube.com/watch?v=1Bmkb40u1Ik', 'https://www.youtube.com/watch?v=sddVsz6nc2A', 'https://www.youtube.com/watch?v=f47tVg19vWE', 'https://www.youtube.com/watch?v=AzHDiRUgTrI', 'https://www.youtube.com/watch?v=FdL76Nn5h3k', 'https://www.youtube.com/watch?v=58ZR-17sLtY', 'https://www.youtube.com/watch?v=X-raF68TDfs', 'https://www.youtube.com/watch?v=lN4uVdRUxB0', 'https://www.youtube.com/watch?v=jAD8jrrVO_8', 'https://www.youtube.com/watch?v=XKQ88SFIDfo', 'https://www.youtube.com/watch?v=oEVVyOqF2os', 'https://www.youtube.com/watch?v=g1BsBrBf_WE', 'https://www.youtube.com/watch?v=PGAsMVhpS8Q', 'https://www.youtube.com/watch?v=K4UV6otAqfE', None, 'https://www.youtube.com/watch?v=jC7bNsunqCA', 'https://www.youtube.com/watch?v=ebOGw7xKMko', 'https://www.youtube.com/watch?v=a4ZszqlX2h4', 'https://www.youtube.com/watch?v=hYaZfbTSiY0', 'https://www.youtube.com/watch?v=Hyvbnz38A1M', 'https://www.youtube.com/watch?v=10KFP5h2jQo', 'https://www.youtube.com/watch?v=FoOJ9nZ5Ssc', 'https://www.youtube.com/watch?v=ptCIjCZklfc', None]\n"
     ]
    }
   ],
   "source": [
    "print(len(v_url_list), \"\\n\", v_url_list)"
   ]
  },
  {
   "cell_type": "code",
   "execution_count": 14,
   "metadata": {},
   "outputs": [
    {
     "output_type": "stream",
     "name": "stderr",
     "text": [
      "100%|██████████| 146/146 [32:32<00:00, 13.37s/it]\n",
      "Error Count: 0\n"
     ]
    }
   ],
   "source": [
    "comment_list = []; err = 0\n",
    "driver = webdriver.Chrome('./chromedriver')\n",
    "driver.maximize_window()\n",
    "for url in tqdm(v_url_list):\n",
    "    if url == None:\n",
    "        continue\n",
    "    else:\n",
    "        driver.get(url)\n",
    "        time.sleep(1)\n",
    "\n",
    "        # 스크롤 끝까지 내리기\n",
    "        last_height = driver.execute_script(\"return document.documentElement.scrollHeight\")\n",
    "        driver.execute_script(\"window.scrollTo(0, 350);\")\n",
    "        time.sleep(2)\n",
    "        while True:\n",
    "            driver.execute_script(\"window.scrollTo(0, document.documentElement.scrollHeight);\")\n",
    "            time.sleep(1.5)\n",
    "            new_height = driver.execute_script(\"return document.documentElement.scrollHeight\")\n",
    "            if new_height == last_height:\n",
    "                break\n",
    "            last_height = new_height\n",
    "\n",
    "        # 댓글 수집\n",
    "        contents = driver.find_element_by_class_name(\"style-scope ytd-item-section-renderer\")\n",
    "        try:\n",
    "            comments = contents.find_elements_by_tag_name('ytd-expander')\n",
    "            for comment in comments:\n",
    "                text = comment.find_element_by_tag_name('div').text\n",
    "                comment_list.append(text)\n",
    "        except:\n",
    "            err += 1\n",
    "            continue\n",
    "print(f'Error Count: {err}')\n",
    "driver.close()"
   ]
  },
  {
   "cell_type": "code",
   "execution_count": 15,
   "metadata": {
    "tags": []
   },
   "outputs": [
    {
     "output_type": "execute_result",
     "data": {
      "text/plain": [
       "5123"
      ]
     },
     "metadata": {},
     "execution_count": 15
    }
   ],
   "source": [
    "len(comment_list)"
   ]
  },
  {
   "source": [
    "### 댓글 원본 저장(전처리 X)"
   ],
   "cell_type": "markdown",
   "metadata": {}
  },
  {
   "cell_type": "code",
   "execution_count": 16,
   "metadata": {},
   "outputs": [
    {
     "output_type": "execute_result",
     "data": {
      "text/plain": [
       "                                            comments\n",
       "0  1. KISA 인터넷 보호나라\\n\\n해킹/바이러스, 불법스팸이나 개인정보 침해 등으...\n",
       "1           좋은 영상 감사합니다. 문제가 생겼을때는 전문가의 도움을 받는게 좋군요!\n",
       "2                                     새해 복 많이 받으세요~!\n",
       "3                카페에 질문 남거도 답변이 없는데 연락할 방법이 없나요..?ㅠㅠ\n",
       "4  카트 하다가 어떤핵쟁이가 아이피 따고 다른방에 제 아이피를 여기저기 뿌리고 다녀서...."
      ],
      "text/html": "<div>\n<style scoped>\n    .dataframe tbody tr th:only-of-type {\n        vertical-align: middle;\n    }\n\n    .dataframe tbody tr th {\n        vertical-align: top;\n    }\n\n    .dataframe thead th {\n        text-align: right;\n    }\n</style>\n<table border=\"1\" class=\"dataframe\">\n  <thead>\n    <tr style=\"text-align: right;\">\n      <th></th>\n      <th>comments</th>\n    </tr>\n  </thead>\n  <tbody>\n    <tr>\n      <th>0</th>\n      <td>1. KISA 인터넷 보호나라\\n\\n해킹/바이러스, 불법스팸이나 개인정보 침해 등으...</td>\n    </tr>\n    <tr>\n      <th>1</th>\n      <td>좋은 영상 감사합니다. 문제가 생겼을때는 전문가의 도움을 받는게 좋군요!</td>\n    </tr>\n    <tr>\n      <th>2</th>\n      <td>새해 복 많이 받으세요~!</td>\n    </tr>\n    <tr>\n      <th>3</th>\n      <td>카페에 질문 남거도 답변이 없는데 연락할 방법이 없나요..?ㅠㅠ</td>\n    </tr>\n    <tr>\n      <th>4</th>\n      <td>카트 하다가 어떤핵쟁이가 아이피 따고 다른방에 제 아이피를 여기저기 뿌리고 다녀서....</td>\n    </tr>\n  </tbody>\n</table>\n</div>"
     },
     "metadata": {},
     "execution_count": 16
    }
   ],
   "source": [
    "import pandas as pd \n",
    "df = pd.DataFrame({\n",
    "    'comments': comment_list\n",
    "})\n",
    "df.head()"
   ]
  },
  {
   "cell_type": "code",
   "execution_count": 17,
   "metadata": {},
   "outputs": [],
   "source": [
    "df.to_csv(f'./data/youtube_channel={KEYWORD}_org.txt', sep='\\t', index=False)"
   ]
  },
  {
   "source": [
    "### 데이터 전처리"
   ],
   "cell_type": "markdown",
   "metadata": {}
  },
  {
   "cell_type": "code",
   "execution_count": 18,
   "metadata": {},
   "outputs": [
    {
     "output_type": "execute_result",
     "data": {
      "text/plain": [
       "                                            comments\n",
       "0  1. KISA 인터넷 보호나라\\n\\n해킹/바이러스, 불법스팸이나 개인정보 침해 등으...\n",
       "1           좋은 영상 감사합니다. 문제가 생겼을때는 전문가의 도움을 받는게 좋군요!\n",
       "2                                     새해 복 많이 받으세요~!\n",
       "3                카페에 질문 남거도 답변이 없는데 연락할 방법이 없나요..?ㅠㅠ\n",
       "4  카트 하다가 어떤핵쟁이가 아이피 따고 다른방에 제 아이피를 여기저기 뿌리고 다녀서...."
      ],
      "text/html": "<div>\n<style scoped>\n    .dataframe tbody tr th:only-of-type {\n        vertical-align: middle;\n    }\n\n    .dataframe tbody tr th {\n        vertical-align: top;\n    }\n\n    .dataframe thead th {\n        text-align: right;\n    }\n</style>\n<table border=\"1\" class=\"dataframe\">\n  <thead>\n    <tr style=\"text-align: right;\">\n      <th></th>\n      <th>comments</th>\n    </tr>\n  </thead>\n  <tbody>\n    <tr>\n      <th>0</th>\n      <td>1. KISA 인터넷 보호나라\\n\\n해킹/바이러스, 불법스팸이나 개인정보 침해 등으...</td>\n    </tr>\n    <tr>\n      <th>1</th>\n      <td>좋은 영상 감사합니다. 문제가 생겼을때는 전문가의 도움을 받는게 좋군요!</td>\n    </tr>\n    <tr>\n      <th>2</th>\n      <td>새해 복 많이 받으세요~!</td>\n    </tr>\n    <tr>\n      <th>3</th>\n      <td>카페에 질문 남거도 답변이 없는데 연락할 방법이 없나요..?ㅠㅠ</td>\n    </tr>\n    <tr>\n      <th>4</th>\n      <td>카트 하다가 어떤핵쟁이가 아이피 따고 다른방에 제 아이피를 여기저기 뿌리고 다녀서....</td>\n    </tr>\n  </tbody>\n</table>\n</div>"
     },
     "metadata": {},
     "execution_count": 18
    }
   ],
   "source": [
    "df_test = pd.read_table(f'./data/youtube_channel={KEYWORD}_org.txt')\n",
    "df_test.head()"
   ]
  },
  {
   "cell_type": "code",
   "execution_count": 19,
   "metadata": {},
   "outputs": [
    {
     "output_type": "execute_result",
     "data": {
      "text/plain": [
       "(5123, 1)"
      ]
     },
     "metadata": {},
     "execution_count": 19
    }
   ],
   "source": [
    "df_test.shape"
   ]
  },
  {
   "cell_type": "code",
   "execution_count": 20,
   "metadata": {},
   "outputs": [
    {
     "output_type": "stream",
     "name": "stderr",
     "text": [
      "<ipython-input-20-4884171cc048>:1: FutureWarning: The default value of regex will change from True to False in a future version.\n  df_test['comments'] = df_test['comments'].str.replace(\"[^a-zA-Zㄱ-ㅎㅏ-ㅣ가-힣 ]\",\"\")\n"
     ]
    },
    {
     "output_type": "execute_result",
     "data": {
      "text/plain": [
       "                                            comments\n",
       "0   KISA 인터넷 보호나라해킹바이러스 불법스팸이나 개인정보 침해 등으로 불편을 겪고...\n",
       "1             좋은 영상 감사합니다 문제가 생겼을때는 전문가의 도움을 받는게 좋군요\n",
       "2                                       새해 복 많이 받으세요\n",
       "3                   카페에 질문 남거도 답변이 없는데 연락할 방법이 없나요ㅠㅠ\n",
       "4      카트 하다가 어떤핵쟁이가 아이피 따고 다른방에 제 아이피를 여기저기 뿌리고 다녀서"
      ],
      "text/html": "<div>\n<style scoped>\n    .dataframe tbody tr th:only-of-type {\n        vertical-align: middle;\n    }\n\n    .dataframe tbody tr th {\n        vertical-align: top;\n    }\n\n    .dataframe thead th {\n        text-align: right;\n    }\n</style>\n<table border=\"1\" class=\"dataframe\">\n  <thead>\n    <tr style=\"text-align: right;\">\n      <th></th>\n      <th>comments</th>\n    </tr>\n  </thead>\n  <tbody>\n    <tr>\n      <th>0</th>\n      <td>KISA 인터넷 보호나라해킹바이러스 불법스팸이나 개인정보 침해 등으로 불편을 겪고...</td>\n    </tr>\n    <tr>\n      <th>1</th>\n      <td>좋은 영상 감사합니다 문제가 생겼을때는 전문가의 도움을 받는게 좋군요</td>\n    </tr>\n    <tr>\n      <th>2</th>\n      <td>새해 복 많이 받으세요</td>\n    </tr>\n    <tr>\n      <th>3</th>\n      <td>카페에 질문 남거도 답변이 없는데 연락할 방법이 없나요ㅠㅠ</td>\n    </tr>\n    <tr>\n      <th>4</th>\n      <td>카트 하다가 어떤핵쟁이가 아이피 따고 다른방에 제 아이피를 여기저기 뿌리고 다녀서</td>\n    </tr>\n  </tbody>\n</table>\n</div>"
     },
     "metadata": {},
     "execution_count": 20
    }
   ],
   "source": [
    "df_test['comments'] = df_test['comments'].str.replace(\"[^a-zA-Zㄱ-ㅎㅏ-ㅣ가-힣 ]\",\"\")\n",
    "df_test.head()"
   ]
  },
  {
   "cell_type": "code",
   "execution_count": 21,
   "metadata": {},
   "outputs": [
    {
     "output_type": "stream",
     "name": "stdout",
     "text": [
      "20 Int64Index([  69,  784,  795,  916, 1084, 1109, 1118, 1493, 1537, 1600, 1884,\n            2303, 2400, 3213, 3233, 3958, 4553, 4586, 4622, 5051],\n           dtype='int64')\n"
     ]
    }
   ],
   "source": [
    "# 'comments' 값 공백 여부 확인\n",
    "drop_idx = df_test[df_test.comments == \"\"].index\n",
    "print(len(drop_idx), drop_idx)"
   ]
  },
  {
   "cell_type": "code",
   "execution_count": 22,
   "metadata": {},
   "outputs": [
    {
     "output_type": "execute_result",
     "data": {
      "text/plain": [
       "(5103, 1)"
      ]
     },
     "metadata": {},
     "execution_count": 22
    }
   ],
   "source": [
    "# 공백 값을 가지고 있는 해당 인덱스 행 제거\n",
    "df_test.drop(drop_idx, inplace=True)\n",
    "df_test.shape"
   ]
  },
  {
   "cell_type": "code",
   "execution_count": 23,
   "metadata": {},
   "outputs": [
    {
     "output_type": "execute_result",
     "data": {
      "text/plain": [
       "comments    1\n",
       "dtype: int64"
      ]
     },
     "metadata": {},
     "execution_count": 23
    }
   ],
   "source": [
    "# null값 여부 확인\n",
    "df_test.isnull().sum()"
   ]
  },
  {
   "cell_type": "code",
   "execution_count": 24,
   "metadata": {},
   "outputs": [
    {
     "output_type": "execute_result",
     "data": {
      "text/plain": [
       "(5102, 1)"
      ]
     },
     "metadata": {},
     "execution_count": 24
    }
   ],
   "source": [
    "# null 값을 포함한 행 제거\n",
    "df_test = df_test.dropna(how='any')\n",
    "df_test.shape"
   ]
  },
  {
   "cell_type": "code",
   "execution_count": 25,
   "metadata": {},
   "outputs": [
    {
     "output_type": "execute_result",
     "data": {
      "text/plain": [
       "                                            comments\n",
       "0   KISA 인터넷 보호나라해킹바이러스 불법스팸이나 개인정보 침해 등으로 불편을 겪고...\n",
       "1             좋은 영상 감사합니다 문제가 생겼을때는 전문가의 도움을 받는게 좋군요\n",
       "2                                       새해 복 많이 받으세요\n",
       "3                   카페에 질문 남거도 답변이 없는데 연락할 방법이 없나요ㅠㅠ\n",
       "4      카트 하다가 어떤핵쟁이가 아이피 따고 다른방에 제 아이피를 여기저기 뿌리고 다녀서"
      ],
      "text/html": "<div>\n<style scoped>\n    .dataframe tbody tr th:only-of-type {\n        vertical-align: middle;\n    }\n\n    .dataframe tbody tr th {\n        vertical-align: top;\n    }\n\n    .dataframe thead th {\n        text-align: right;\n    }\n</style>\n<table border=\"1\" class=\"dataframe\">\n  <thead>\n    <tr style=\"text-align: right;\">\n      <th></th>\n      <th>comments</th>\n    </tr>\n  </thead>\n  <tbody>\n    <tr>\n      <th>0</th>\n      <td>KISA 인터넷 보호나라해킹바이러스 불법스팸이나 개인정보 침해 등으로 불편을 겪고...</td>\n    </tr>\n    <tr>\n      <th>1</th>\n      <td>좋은 영상 감사합니다 문제가 생겼을때는 전문가의 도움을 받는게 좋군요</td>\n    </tr>\n    <tr>\n      <th>2</th>\n      <td>새해 복 많이 받으세요</td>\n    </tr>\n    <tr>\n      <th>3</th>\n      <td>카페에 질문 남거도 답변이 없는데 연락할 방법이 없나요ㅠㅠ</td>\n    </tr>\n    <tr>\n      <th>4</th>\n      <td>카트 하다가 어떤핵쟁이가 아이피 따고 다른방에 제 아이피를 여기저기 뿌리고 다녀서</td>\n    </tr>\n  </tbody>\n</table>\n</div>"
     },
     "metadata": {},
     "execution_count": 25
    }
   ],
   "source": [
    "df_test.head()"
   ]
  },
  {
   "cell_type": "code",
   "execution_count": 26,
   "metadata": {},
   "outputs": [
    {
     "output_type": "stream",
     "name": "stdout",
     "text": [
      "전처리 후 샘플의 개수: 5102\n"
     ]
    }
   ],
   "source": [
    "print(f'전처리 후 샘플의 개수: {len(df_test)}')"
   ]
  },
  {
   "cell_type": "code",
   "execution_count": 27,
   "metadata": {},
   "outputs": [],
   "source": [
    "df_test.to_csv(f'./result/youtube_channel={KEYWORD}_res.txt', sep='\\t', index=False)"
   ]
  },
  {
   "cell_type": "code",
   "execution_count": null,
   "metadata": {},
   "outputs": [],
   "source": []
  }
 ]
}