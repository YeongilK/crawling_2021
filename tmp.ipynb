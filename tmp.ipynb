{
 "metadata": {
  "language_info": {
   "codemirror_mode": {
    "name": "ipython",
    "version": 3
   },
   "file_extension": ".py",
   "mimetype": "text/x-python",
   "name": "python",
   "nbconvert_exporter": "python",
   "pygments_lexer": "ipython3",
   "version": "3.8.6-final"
  },
  "orig_nbformat": 2,
  "kernelspec": {
   "name": "python386jvsc74a57bd025a6efafc31951e90de1c16a70e6d051f17722d346d4891fc1d97bd3c7f72235",
   "display_name": "Python 3.8.6 64-bit"
  },
  "metadata": {
   "interpreter": {
    "hash": "25a6efafc31951e90de1c16a70e6d051f17722d346d4891fc1d97bd3c7f72235"
   }
  }
 },
 "nbformat": 4,
 "nbformat_minor": 2,
 "cells": [
  {
   "cell_type": "code",
   "execution_count": 2,
   "metadata": {},
   "outputs": [],
   "source": [
    "import time\n",
    "from selenium import webdriver\n",
    "from selenium.webdriver.common.keys import Keys\n",
    "from urllib.parse import quote"
   ]
  },
  {
   "cell_type": "code",
   "execution_count": 3,
   "metadata": {},
   "outputs": [],
   "source": [
    "keyword = \"보안쟁이\""
   ]
  },
  {
   "cell_type": "code",
   "execution_count": 46,
   "metadata": {},
   "outputs": [],
   "source": [
    "driver = webdriver.Chrome('./chromedriver')\n",
    "driver.maximize_window()\n",
    "url = 'https://www.youtube.com/results?search_query=' + quote(keyword)\n",
    "driver.get(url)\n",
    "time.sleep(1)\n",
    "\n",
    "# channel_url, channel_id, channel_name 가져오기\n",
    "main_link = driver.find_element_by_id(\"main-link\")\n",
    "channel_url = main_link.get_attribute(\"href\")\n",
    "c_idx = channel_url.rfind(\"/\") + 1\n",
    "channel_id = channel_url[start_idx:]\n",
    "channel_name = main_link.find_element_by_id(\"text-container\").text\n",
    "\n",
    "# 채널 내 '동영상' 으로 가서 전체 영상 개수 파악\n",
    "main_link.click()\n",
    "time.sleep(1)\n",
    "driver.find_element_by_xpath('//*[@id=\"tabsContent\"]/tp-yt-paper-tab[2]/div').click()\n",
    "time.sleep(1)\n",
    "lis = driver.find_elements_by_id(\"thumbnail\")\n",
    "\n",
    "# 첫 번째 영상의 video_url 가져오기\n",
    "video_url = lis[0].get_attribute(\"href\")\n",
    "\n",
    "# 창 닫기\n",
    "driver.close()"
   ]
  },
  {
   "cell_type": "code",
   "execution_count": 48,
   "metadata": {},
   "outputs": [],
   "source": [
    "driver = webdriver.Chrome('./chromedriver')\n",
    "driver.maximize_window()\n",
    "driver.get(video_url)\n",
    "time.sleep(1)"
   ]
  },
  {
   "cell_type": "code",
   "execution_count": 42,
   "metadata": {},
   "outputs": [
    {
     "output_type": "execute_result",
     "data": {
      "text/plain": [
       "57"
      ]
     },
     "metadata": {},
     "execution_count": 42
    }
   ],
   "source": [
    "len(lis)"
   ]
  }
 ]
}